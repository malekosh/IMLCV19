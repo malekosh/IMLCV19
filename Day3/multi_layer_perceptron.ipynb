{
 "cells": [
  {
   "cell_type": "markdown",
   "metadata": {},
   "source": [
    "# Multi-Layer Perceptron"
   ]
  },
  {
   "cell_type": "code",
   "execution_count": 1,
   "metadata": {},
   "outputs": [],
   "source": [
    "import numpy as np \n",
    "from tensorflow import keras\n",
    "from tensorflow.keras.datasets import cifar10\n",
    "import matplotlib.pyplot as plt\n",
    "import os"
   ]
  },
  {
   "cell_type": "markdown",
   "metadata": {},
   "source": [
    "## Load CIFAR-10"
   ]
  },
  {
   "cell_type": "code",
   "execution_count": null,
   "metadata": {
    "scrolled": true
   },
   "outputs": [],
   "source": [
    "(X_train, y_train), (X_test, y_test) = cifar10.load_data()\n",
    "num_train = len(X_train)\n",
    "num_test = len(X_test)\n",
    "\n",
    "print('train data:', X_train.shape)\n",
    "print('test data:', X_test.shape)\n",
    "print('labels', np.unique(y_train))"
   ]
  },
  {
   "cell_type": "markdown",
   "metadata": {},
   "source": [
    "## Visualize data"
   ]
  },
  {
   "cell_type": "code",
   "execution_count": null,
   "metadata": {
    "scrolled": true
   },
   "outputs": [],
   "source": [
    "from vis_utils import visualize_cifar10\n",
    "\n",
    "plt.figure(dpi=150)\n",
    "visualize_cifar10(X_train, y_train)"
   ]
  },
  {
   "cell_type": "markdown",
   "metadata": {},
   "source": [
    "## Data preprocessing\n"
   ]
  },
  {
   "cell_type": "code",
   "execution_count": null,
   "metadata": {},
   "outputs": [],
   "source": [
    "# Convert images to vectors\n",
    "X_train = X_train.reshape(num_train,-1)\n",
    "X_test = X_test.reshape(num_test,-1)\n",
    "\n",
    "mean_image = np.mean(X_train, axis=0, dtype=np.uint8)\n",
    "X_train -= mean_image\n",
    "X_test -= mean_image\n",
    "\n",
    "print('train data:', X_train.shape)\n",
    "print('test data:', X_test.shape)"
   ]
  },
  {
   "cell_type": "markdown",
   "metadata": {},
   "source": [
    "## Create a multi-layer perceptron"
   ]
  },
  {
   "cell_type": "code",
   "execution_count": null,
   "metadata": {},
   "outputs": [],
   "source": [
    "mlp_model = keras.Sequential() # a stack of layers model\n",
    "\n",
    "mlp_model.add(keras.layers.Dense(512, activation='relu'))\n",
    "mlp_model.add(keras.layers.Dense(256, activation='relu'))\n",
    "mlp_model.add(keras.layers.Dense(128, activation='relu'))\n",
    "mlp_model.add(keras.layers.Dense(128, activation='relu'))\n",
    "mlp_model.add(keras.layers.Dense(10, activation='softmax'))\n",
    "\n",
    "\n",
    "mlp_model.compile(optimizer=keras.optimizers.Adam(1e-3),\n",
    "                  loss=keras.losses.CategoricalCrossentropy(),\n",
    "                  metrics=[keras.metrics.CategoricalAccuracy()])"
   ]
  },
  {
   "cell_type": "code",
   "execution_count": null,
   "metadata": {
    "scrolled": true
   },
   "outputs": [],
   "source": [
    "mlp_model.fit(X_train, y_train, epochs=10, batch_size=50)"
   ]
  },
  {
   "cell_type": "code",
   "execution_count": 24,
   "metadata": {},
   "outputs": [
    {
     "name": "stdout",
     "output_type": "stream",
     "text": [
      "(60000, 28, 28) (10000, 28, 28)\n"
     ]
    }
   ],
   "source": [
    "from tensorflow import keras\n",
    "from tensorflow.keras.datasets import mnist\n",
    "\n",
    "(X_train, y_train), (X_test, y_test) = mnist.load_data()\n",
    "\n",
    "num_train = len(X_train)\n",
    "num_test = len(X_test)\n",
    "\n",
    "print(X_train.shape, X_test.shape)"
   ]
  },
  {
   "cell_type": "code",
   "execution_count": 25,
   "metadata": {},
   "outputs": [],
   "source": [
    "X_train = X_train.reshape(num_train,-1).astype(np.float64)\n",
    "X_test = X_test.reshape(num_test,-1).astype(np.float64)\n",
    "\n",
    "mean_image = np.mean(X_train, axis=0)\n",
    "X_train -= mean_image\n",
    "X_test -= mean_image\n"
   ]
  },
  {
   "cell_type": "code",
   "execution_count": 42,
   "metadata": {},
   "outputs": [
    {
     "name": "stdout",
     "output_type": "stream",
     "text": [
      "Train on 60000 samples\n",
      "Epoch 1/5\n",
      "60000/60000 [==============================] - 35s 589us/sample - loss: 44015.7012 - categorical_accuracy: 0.4812\n",
      "Epoch 2/5\n",
      "60000/60000 [==============================] - 2s 28us/sample - loss: 162526.5042 - categorical_accuracy: 0.5038\n",
      "Epoch 3/5\n",
      "60000/60000 [==============================] - 2s 28us/sample - loss: 288518.2065 - categorical_accuracy: 0.4337\n",
      "Epoch 4/5\n",
      "60000/60000 [==============================] - 2s 35us/sample - loss: 412033.0131 - categorical_accuracy: 0.4060\n",
      "Epoch 5/5\n",
      "60000/60000 [==============================] - 2s 36us/sample - loss: 532056.6865 - categorical_accuracy: 0.3920\n"
     ]
    },
    {
     "data": {
      "text/plain": [
       "<tensorflow.python.keras.callbacks.History at 0x7fa87bcafbe0>"
      ]
     },
     "execution_count": 42,
     "metadata": {},
     "output_type": "execute_result"
    }
   ],
   "source": [
    "mlp_model = keras.Sequential() # a stack of layers model\n",
    "\n",
    "#mlp_model.add(keras.layers.Dense(256, activation='relu'))\n",
    "mlp_model.add(keras.layers.Dense(128, activation='relu', \n",
    "                                 kernel_initializer=keras.initializers.glorot_normal()))\n",
    "\n",
    "#mlp_model.add(keras.layers.Dense(64, activation='relu'))\n",
    "\n",
    "#mlp_model.add(keras.layers.Dense(64, activation='relu'))\n",
    "mlp_model.add(keras.layers.Dense(10, activation='softmax'))\n",
    "\n",
    "mlp_model.compile(optimizer=keras.optimizers.Adam(lr=1e-3, deca),\n",
    "                  loss=keras.losses.CategoricalCrossentropy(),\n",
    "                  metrics=[keras.metrics.CategoricalAccuracy()])\n",
    "\n",
    "mlp_model.fit(X_train, y_train, epochs=5, batch_size=400)"
   ]
  },
  {
   "cell_type": "code",
   "execution_count": null,
   "metadata": {},
   "outputs": [],
   "source": []
  }
 ],
 "metadata": {
  "kernelspec": {
   "display_name": "Python 3",
   "language": "python",
   "name": "python3"
  },
  "language_info": {
   "codemirror_mode": {
    "name": "ipython",
    "version": 3
   },
   "file_extension": ".py",
   "mimetype": "text/x-python",
   "name": "python",
   "nbconvert_exporter": "python",
   "pygments_lexer": "ipython3",
   "version": "3.5.2"
  }
 },
 "nbformat": 4,
 "nbformat_minor": 2
}
