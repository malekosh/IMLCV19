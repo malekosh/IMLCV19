{
 "cells": [
  {
   "cell_type": "markdown",
   "metadata": {},
   "source": [
    "# Convolutional Neural Networks (CNN)"
   ]
  },
  {
   "cell_type": "code",
   "execution_count": 1,
   "metadata": {
    "scrolled": true
   },
   "outputs": [],
   "source": [
    "import numpy as np \n",
    "from tensorflow import keras\n",
    "from tensorflow.keras.datasets import cifar10\n",
    "import matplotlib.pyplot as plt\n",
    "import os"
   ]
  },
  {
   "cell_type": "markdown",
   "metadata": {},
   "source": [
    "## Load CIFAR-10"
   ]
  },
  {
   "cell_type": "code",
   "execution_count": 2,
   "metadata": {},
   "outputs": [
    {
     "name": "stdout",
     "output_type": "stream",
     "text": [
      "X_train: (50000, 32, 32, 3)\n",
      "X_test: (10000, 32, 32, 3)\n",
      "num_classes: 10\n",
      "labels: [0 1 2 3 4 5 6 7 8 9]\n"
     ]
    }
   ],
   "source": [
    "(X_train, y_train), (X_test, y_test) = cifar10.load_data()\n",
    "num_train = len(X_train)\n",
    "num_test = len(X_test)\n",
    "\n",
    "num_classes = len(np.unique(y_train))\n",
    "\n",
    "print('X_train:', X_train.shape)\n",
    "print('X_test:', X_test.shape)\n",
    "print('num_classes:', num_classes)\n",
    "print('labels:', np.unique(y_train))"
   ]
  },
  {
   "cell_type": "markdown",
   "metadata": {},
   "source": [
    "## Visualize data"
   ]
  },
  {
   "cell_type": "code",
   "execution_count": null,
   "metadata": {},
   "outputs": [],
   "source": [
    "from vis_utils import visualize_cifar10\n",
    "\n",
    "plt.figure(dpi=150)\n",
    "visualize_cifar10(X_train, y_train)"
   ]
  },
  {
   "cell_type": "markdown",
   "metadata": {},
   "source": [
    "## Data preprocessing\n"
   ]
  },
  {
   "cell_type": "code",
   "execution_count": 3,
   "metadata": {},
   "outputs": [
    {
     "name": "stdout",
     "output_type": "stream",
     "text": [
      "train data: (50000, 32, 32, 3)\n",
      "test data: (10000, 32, 32, 3)\n"
     ]
    }
   ],
   "source": [
    "X_train = X_train.astype(np.float32)\n",
    "X_test = X_test.astype(np.float32)\n",
    "\n",
    "X_train /= 255\n",
    "X_test /= 255\n",
    "\n",
    "mean_image = np.mean(X_train, axis=0)\n",
    "X_train -= mean_image\n",
    "X_test -= mean_image\n",
    "\n",
    "\n",
    "print('train data:', X_train.shape)\n",
    "print('test data:', X_test.shape)"
   ]
  },
  {
   "cell_type": "markdown",
   "metadata": {},
   "source": [
    "## Create CNN"
   ]
  },
  {
   "cell_type": "code",
   "execution_count": 4,
   "metadata": {},
   "outputs": [],
   "source": [
    "from tensorflow.keras.models import Sequential\n",
    "from tensorflow.keras.layers import Dense, Dropout, Activation, Flatten\n",
    "from tensorflow.keras.layers import Conv2D, MaxPooling2D\n",
    "\n",
    "# Design the architecture ....................................................\n",
    "model = Sequential()\n",
    "\n",
    "# Convolution layer 1 ..........................\n",
    "model.add(Conv2D(32, (3, 3), padding='same',\n",
    "                 input_shape=X_train.shape[1:]))\n",
    "model.add(Activation('relu'))\n",
    "\n",
    "# Convolution layer 2 ..........................\n",
    "model.add(Conv2D(32, (3, 3)))\n",
    "model.add(Activation('relu'))\n",
    "\n",
    "# Max-pooling layer 1 ..........................\n",
    "model.add(MaxPooling2D(pool_size=(2, 2)))\n",
    "model.add(Dropout(0.25))\n",
    "\n",
    "# Convolution layer 3 ..........................\n",
    "model.add(Conv2D(64, (3, 3), padding='same'))\n",
    "model.add(Activation('relu'))\n",
    "\n",
    "# Convolution layer 4 ..........................\n",
    "model.add(Conv2D(64, (3, 3)))\n",
    "model.add(Activation('relu'))\n",
    "\n",
    "# Max-pooling layer 2 ..........................\n",
    "model.add(MaxPooling2D(pool_size=(2, 2)))\n",
    "model.add(Dropout(0.25))\n",
    "\n",
    "# Classification layers ........................\n",
    "\n",
    "# Flatten the data\n",
    "model.add(Flatten())\n",
    "\n",
    "# Fully-connected layer\n",
    "model.add(Dense(512))\n",
    "model.add(Activation('relu'))\n",
    "\n",
    "# Dropout layer\n",
    "model.add(Dropout(0.5))\n",
    "\n",
    "# Fully-connected layer (scores)\n",
    "model.add(Dense(num_classes))\n",
    "model.add(Activation('softmax'))"
   ]
  },
  {
   "cell_type": "code",
   "execution_count": 5,
   "metadata": {},
   "outputs": [],
   "source": [
    "# Specify model characteristics\n",
    "opt = keras.optimizers.RMSprop(learning_rate=0.0001, decay=1e-6) # optimizer\n",
    " \n",
    "model.compile(loss='sparse_categorical_crossentropy',\n",
    "              optimizer=opt,\n",
    "              metrics=['accuracy'])"
   ]
  },
  {
   "cell_type": "markdown",
   "metadata": {},
   "source": [
    "### Ttrain model"
   ]
  },
  {
   "cell_type": "code",
   "execution_count": null,
   "metadata": {},
   "outputs": [
    {
     "name": "stdout",
     "output_type": "stream",
     "text": [
      "Train on 50000 samples, validate on 10000 samples\n",
      "Epoch 1/100\n",
      "50000/50000 [==============================] - 320s 6ms/sample - loss: 1.7841 - accuracy: 0.3485 - val_loss: 1.5131 - val_accuracy: 0.4525\n",
      "Epoch 2/100\n",
      "50000/50000 [==============================] - 333s 7ms/sample - loss: 1.4796 - accuracy: 0.4635 - val_loss: 1.3543 - val_accuracy: 0.5176\n",
      "Epoch 3/100\n",
      "50000/50000 [==============================] - 336s 7ms/sample - loss: 1.3571 - accuracy: 0.5123 - val_loss: 1.2350 - val_accuracy: 0.5641\n",
      "Epoch 4/100\n",
      "50000/50000 [==============================] - 350s 7ms/sample - loss: 1.2703 - accuracy: 0.5465 - val_loss: 1.1617 - val_accuracy: 0.5873\n",
      "Epoch 5/100\n",
      "50000/50000 [==============================] - 346s 7ms/sample - loss: 1.1955 - accuracy: 0.5765 - val_loss: 1.1180 - val_accuracy: 0.6039\n",
      "Epoch 6/100\n",
      "50000/50000 [==============================] - 341s 7ms/sample - loss: 1.1306 - accuracy: 0.5995 - val_loss: 1.0818 - val_accuracy: 0.6180\n",
      "Epoch 7/100\n",
      "50000/50000 [==============================] - 341s 7ms/sample - loss: 1.0744 - accuracy: 0.6230 - val_loss: 1.0902 - val_accuracy: 0.6181\n",
      "Epoch 8/100\n",
      "50000/50000 [==============================] - 340s 7ms/sample - loss: 1.0225 - accuracy: 0.6397 - val_loss: 0.9911 - val_accuracy: 0.6546\n",
      "Epoch 9/100\n",
      "50000/50000 [==============================] - 340s 7ms/sample - loss: 0.9799 - accuracy: 0.6573 - val_loss: 0.9322 - val_accuracy: 0.6748\n",
      "Epoch 10/100\n",
      "50000/50000 [==============================] - 341s 7ms/sample - loss: 0.9437 - accuracy: 0.6715 - val_loss: 0.9012 - val_accuracy: 0.6842\n",
      "Epoch 11/100\n",
      "50000/50000 [==============================] - 341s 7ms/sample - loss: 0.9114 - accuracy: 0.6812 - val_loss: 0.8601 - val_accuracy: 0.7016\n",
      "Epoch 12/100\n",
      "50000/50000 [==============================] - 341s 7ms/sample - loss: 0.8833 - accuracy: 0.6916 - val_loss: 0.8461 - val_accuracy: 0.7067\n",
      "Epoch 13/100\n",
      "50000/50000 [==============================] - 347s 7ms/sample - loss: 0.8609 - accuracy: 0.6999 - val_loss: 0.8326 - val_accuracy: 0.7110\n",
      "Epoch 14/100\n",
      "50000/50000 [==============================] - 357s 7ms/sample - loss: 0.8350 - accuracy: 0.7089 - val_loss: 0.8146 - val_accuracy: 0.7174\n",
      "Epoch 15/100\n",
      " 9184/50000 [====>.........................] - ETA: 4:58 - loss: 0.8219 - accuracy: 0.7136"
     ]
    }
   ],
   "source": [
    "history = model.fit(X_train, y_train,\n",
    "                    batch_size=32,\n",
    "                    epochs=100,\n",
    "                    validation_data=(X_test, y_test),\n",
    "                    shuffle=True)"
   ]
  },
  {
   "cell_type": "markdown",
   "metadata": {},
   "source": [
    "### Save model"
   ]
  },
  {
   "cell_type": "code",
   "execution_count": null,
   "metadata": {},
   "outputs": [],
   "source": [
    "model_path = os.path.join(os.getcwd(), 'cnn_cifar_model')\n",
    "model.save(model_path)"
   ]
  },
  {
   "cell_type": "markdown",
   "metadata": {},
   "source": [
    "### Load and evaluate model"
   ]
  },
  {
   "cell_type": "code",
   "execution_count": null,
   "metadata": {},
   "outputs": [],
   "source": [
    "from tensorflow.keras.models import load_model\n",
    "from tensorflow.keras import backend as K\n",
    "from vis_utils import visualize_grid3D\n",
    "\n",
    "model = load_model(os.path.join(os.getcwd(), 'cnn_cifar'))\n",
    "\n",
    "scores = model.evaluate(X_test, y_test, verbose=False)\n",
    "print('Test loss:', scores[0])\n",
    "print('Test accuracy:', scores[1])\n"
   ]
  },
  {
   "cell_type": "code",
   "execution_count": null,
   "metadata": {},
   "outputs": [],
   "source": []
  }
 ],
 "metadata": {
  "kernelspec": {
   "display_name": "Python 3",
   "language": "python",
   "name": "python3"
  },
  "language_info": {
   "codemirror_mode": {
    "name": "ipython",
    "version": 3
   },
   "file_extension": ".py",
   "mimetype": "text/x-python",
   "name": "python",
   "nbconvert_exporter": "python",
   "pygments_lexer": "ipython3",
   "version": "3.5.2"
  }
 },
 "nbformat": 4,
 "nbformat_minor": 2
}
