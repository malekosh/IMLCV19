{
 "cells": [
  {
   "cell_type": "markdown",
   "metadata": {},
   "source": [
    "__Setup working environment__\n",
    "\n",
    "Import the required modules:\n",
    "- numpy\n",
    "- scipy\n",
    "- matplotlib\n",
    "\n",
    "Activate inline plotting with matplotlib"
   ]
  },
  {
   "cell_type": "code",
   "execution_count": 1,
   "metadata": {
    "collapsed": false
   },
   "outputs": [],
   "source": [
    "import numpy as np\n",
    "import scipy as sp\n",
    "\n",
    "import matplotlib\n",
    "import matplotlib.pyplot as plt\n",
    "\n",
    "np.set_printoptions(precision=4)\n",
    "%matplotlib inline"
   ]
  },
  {
   "cell_type": "markdown",
   "metadata": {},
   "source": [
    "Generate a random matrix A of size 5x6"
   ]
  },
  {
   "cell_type": "code",
   "execution_count": 2,
   "metadata": {
    "collapsed": false
   },
   "outputs": [
    {
     "data": {
      "text/plain": [
       "array([[ 0.2068,  0.5391,  0.2226,  0.5602,  0.7877,  0.8995],\n",
       "       [ 0.0757,  0.7723,  0.1912,  0.5702,  0.3921,  0.5577],\n",
       "       [ 0.9417,  0.3252,  0.4616,  0.6306,  0.9942,  0.379 ],\n",
       "       [ 0.5138,  0.116 ,  0.8421,  0.1658,  0.2788,  0.1419],\n",
       "       [ 0.1272,  0.3206,  0.1319,  0.8332,  0.8147,  0.3925]])"
      ]
     },
     "execution_count": 2,
     "metadata": {},
     "output_type": "execute_result"
    }
   ],
   "source": [
    "A = np.random.random((5,6))\n",
    "A"
   ]
  },
  {
   "cell_type": "markdown",
   "metadata": {},
   "source": [
    "Delete the last column of A"
   ]
  },
  {
   "cell_type": "code",
   "execution_count": 3,
   "metadata": {
    "collapsed": false
   },
   "outputs": [
    {
     "data": {
      "text/plain": [
       "array([[ 0.2068,  0.5391,  0.2226,  0.5602,  0.7877],\n",
       "       [ 0.0757,  0.7723,  0.1912,  0.5702,  0.3921],\n",
       "       [ 0.9417,  0.3252,  0.4616,  0.6306,  0.9942],\n",
       "       [ 0.5138,  0.116 ,  0.8421,  0.1658,  0.2788],\n",
       "       [ 0.1272,  0.3206,  0.1319,  0.8332,  0.8147]])"
      ]
     },
     "execution_count": 3,
     "metadata": {},
     "output_type": "execute_result"
    }
   ],
   "source": [
    "A = np.delete(A, -1, 1)\n",
    "A"
   ]
  },
  {
   "cell_type": "markdown",
   "metadata": {},
   "source": [
    "Transform A into a vector v"
   ]
  },
  {
   "cell_type": "code",
   "execution_count": 4,
   "metadata": {
    "collapsed": false
   },
   "outputs": [
    {
     "data": {
      "text/plain": [
       "array([ 0.2068,  0.5391,  0.2226,  0.5602,  0.7877,  0.0757,  0.7723,\n",
       "        0.1912,  0.5702,  0.3921,  0.9417,  0.3252,  0.4616,  0.6306,\n",
       "        0.9942,  0.5138,  0.116 ,  0.8421,  0.1658,  0.2788,  0.1272,\n",
       "        0.3206,  0.1319,  0.8332,  0.8147])"
      ]
     },
     "execution_count": 4,
     "metadata": {},
     "output_type": "execute_result"
    }
   ],
   "source": [
    "v = A.flatten()\n",
    "v"
   ]
  },
  {
   "cell_type": "markdown",
   "metadata": {},
   "source": [
    "Transform v back into a matrix"
   ]
  },
  {
   "cell_type": "code",
   "execution_count": 5,
   "metadata": {
    "collapsed": false
   },
   "outputs": [
    {
     "data": {
      "text/plain": [
       "array([[ 0.2068,  0.5391,  0.2226,  0.5602,  0.7877],\n",
       "       [ 0.0757,  0.7723,  0.1912,  0.5702,  0.3921],\n",
       "       [ 0.9417,  0.3252,  0.4616,  0.6306,  0.9942],\n",
       "       [ 0.5138,  0.116 ,  0.8421,  0.1658,  0.2788],\n",
       "       [ 0.1272,  0.3206,  0.1319,  0.8332,  0.8147]])"
      ]
     },
     "execution_count": 5,
     "metadata": {},
     "output_type": "execute_result"
    }
   ],
   "source": [
    "A = v.reshape((5,5))\n",
    "A"
   ]
  },
  {
   "cell_type": "markdown",
   "metadata": {},
   "source": [
    "Get the biggest entry of A row 1"
   ]
  },
  {
   "cell_type": "code",
   "execution_count": 6,
   "metadata": {
    "collapsed": false
   },
   "outputs": [
    {
     "data": {
      "text/plain": [
       "0.78774665663917776"
      ]
     },
     "execution_count": 6,
     "metadata": {},
     "output_type": "execute_result"
    }
   ],
   "source": [
    "A[0,:].max()"
   ]
  },
  {
   "cell_type": "markdown",
   "metadata": {},
   "source": [
    "Get the biggest entry of A col 2"
   ]
  },
  {
   "cell_type": "code",
   "execution_count": 15,
   "metadata": {
    "collapsed": false
   },
   "outputs": [
    {
     "data": {
      "text/plain": [
       "0.77229787186831456"
      ]
     },
     "execution_count": 15,
     "metadata": {},
     "output_type": "execute_result"
    }
   ],
   "source": [
    "A[:,1].max()"
   ]
  },
  {
   "cell_type": "code",
   "execution_count": 16,
   "metadata": {
    "collapsed": false
   },
   "outputs": [
    {
     "data": {
      "text/plain": [
       "0.77229787186831456"
      ]
     },
     "execution_count": 16,
     "metadata": {},
     "output_type": "execute_result"
    }
   ],
   "source": [
    "max(A[:,1])"
   ]
  },
  {
   "cell_type": "markdown",
   "metadata": {},
   "source": [
    "Treat A as an image and visualize it. Very important: The interpolation method has to be set to \"nearest\" in order to avoid interpolation artifacts."
   ]
  },
  {
   "cell_type": "code",
   "execution_count": 8,
   "metadata": {
    "collapsed": false
   },
   "outputs": [
    {
     "data": {
      "text/plain": [
       "<matplotlib.text.Text at 0x1109c9588>"
      ]
     },
     "execution_count": 8,
     "metadata": {},
     "output_type": "execute_result"
    },
    {
     "data": {
      "image/png": "[encoded data removed]",
      "text/plain": [
       "<matplotlib.figure.Figure at 0x10e59cc18>"
      ]
     },
     "metadata": {},
     "output_type": "display_data"
    }
   ],
   "source": [
    "fig, axes = plt.subplots()\n",
    "axes.imshow(A, cmap=plt.cm.gray, interpolation=\"nearest\")\n",
    "axes.set_xlabel('Column')\n",
    "axes.set_ylabel('Row')\n",
    "axes.set_title('Matrix as Image')"
   ]
  },
  {
   "cell_type": "markdown",
   "metadata": {},
   "source": [
    "Create another matrix B and multiply it with A (dot product)"
   ]
  },
  {
   "cell_type": "code",
   "execution_count": 9,
   "metadata": {
    "collapsed": false
   },
   "outputs": [
    {
     "data": {
      "text/plain": [
       "array([[ 0.1612,  0.2907,  0.1411,  0.5903,  0.603 ],\n",
       "       [ 1.3123,  1.2235,  1.136 ,  1.4535,  1.8896],\n",
       "       [ 0.7755,  1.2042,  0.8486,  1.4455,  1.6843],\n",
       "       [ 0.6867,  0.5532,  0.5684,  1.089 ,  1.2959],\n",
       "       [ 1.1902,  1.0764,  1.2084,  1.5547,  1.962 ]])"
      ]
     },
     "execution_count": 9,
     "metadata": {},
     "output_type": "execute_result"
    }
   ],
   "source": [
    "B = np.random.random((5,5))\n",
    "B.dot(A)"
   ]
  },
  {
   "cell_type": "markdown",
   "metadata": {},
   "source": [
    "Multiply every entry of A with the corresponding entry of B (element-wise product)"
   ]
  },
  {
   "cell_type": "code",
   "execution_count": 10,
   "metadata": {
    "collapsed": false
   },
   "outputs": [
    {
     "data": {
      "text/plain": [
       "array([[ 0.0084,  0.0427,  0.0165,  0.0051,  0.4483],\n",
       "       [ 0.0535,  0.4669,  0.1709,  0.2982,  0.0292],\n",
       "       [ 0.8059,  0.1909,  0.14  ,  0.2599,  0.4437],\n",
       "       [ 0.0895,  0.0058,  0.3748,  0.042 ,  0.2142],\n",
       "       [ 0.0943,  0.0872,  0.0768,  0.6384,  0.4797]])"
      ]
     },
     "execution_count": 10,
     "metadata": {},
     "output_type": "execute_result"
    }
   ],
   "source": [
    "B * A"
   ]
  },
  {
   "cell_type": "markdown",
   "metadata": {},
   "source": [
    "Square every entry of B"
   ]
  },
  {
   "cell_type": "code",
   "execution_count": 11,
   "metadata": {
    "collapsed": false
   },
   "outputs": [
    {
     "data": {
      "text/plain": [
       "array([[ 0.0428,  0.2906,  0.0496,  0.3139,  0.6205],\n",
       "       [ 0.0057,  0.5964,  0.0365,  0.3251,  0.1537],\n",
       "       [ 0.8868,  0.1057,  0.2131,  0.3976,  0.9884],\n",
       "       [ 0.264 ,  0.0135,  0.7091,  0.0275,  0.0777],\n",
       "       [ 0.0162,  0.1028,  0.0174,  0.6942,  0.6638]])"
      ]
     },
     "execution_count": 11,
     "metadata": {},
     "output_type": "execute_result"
    }
   ],
   "source": [
    "np.power(A, 2)"
   ]
  },
  {
   "cell_type": "markdown",
   "metadata": {},
   "source": [
    "Create a third matrix C filled with zeros"
   ]
  },
  {
   "cell_type": "code",
   "execution_count": 12,
   "metadata": {
    "collapsed": true
   },
   "outputs": [],
   "source": [
    "C = np.zeros((5,5))"
   ]
  },
  {
   "cell_type": "markdown",
   "metadata": {},
   "source": [
    "Write the difference of the last two rows of A and B into the last two rows of C"
   ]
  },
  {
   "cell_type": "code",
   "execution_count": 13,
   "metadata": {
    "collapsed": false
   },
   "outputs": [
    {
     "data": {
      "text/plain": [
       "array([[ 0.    ,  0.    ,  0.    ,  0.    ,  0.    ],\n",
       "       [ 0.    ,  0.    ,  0.    ,  0.    ,  0.    ],\n",
       "       [ 0.    ,  0.    ,  0.    ,  0.    ,  0.    ],\n",
       "       [ 0.3396,  0.0656,  0.397 , -0.0873, -0.4894],\n",
       "       [-0.6138,  0.0485, -0.4498,  0.0669,  0.226 ]])"
      ]
     },
     "execution_count": 13,
     "metadata": {},
     "output_type": "execute_result"
    }
   ],
   "source": [
    "C[3:,:] = A[3:,:] - B[3:,:]\n",
    "C"
   ]
  }
 ],
 "metadata": {
  "anaconda-cloud": {},
  "kernelspec": {
   "display_name": "Python [python3]",
   "language": "python",
   "name": "Python [python3]"
  },
  "language_info": {
   "codemirror_mode": {
    "name": "ipython",
    "version": 3
   },
   "file_extension": ".py",
   "mimetype": "text/x-python",
   "name": "python",
   "nbconvert_exporter": "python",
   "pygments_lexer": "ipython3",
   "version": "3.5.2"
  }
 },
 "nbformat": 4,
 "nbformat_minor": 1
}
