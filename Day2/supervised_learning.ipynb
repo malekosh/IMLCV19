{
 "cells": [
  {
   "cell_type": "markdown",
   "metadata": {},
   "source": [
    "# Supervised Learning"
   ]
  },
  {
   "cell_type": "code",
   "execution_count": 24,
   "metadata": {},
   "outputs": [],
   "source": [
    "import numpy as np\n",
    "from sklearn.datasets import fetch_openml\n",
    "import os\n"
   ]
  },
  {
   "cell_type": "code",
   "execution_count": 22,
   "metadata": {
    "scrolled": true
   },
   "outputs": [
    {
     "name": "stdout",
     "output_type": "stream",
     "text": [
      "data: (70000, 784) , labels: (70000,)\n"
     ]
    }
   ],
   "source": [
    "data_path = os.path.join(os.path.dirname(os.getcwd()), 'datasets')\n",
    "X, y = fetch_openml('mnist_784', version=1, return_X_y=True, data_home=data_path)\n",
    "print('data:', X.shape, ',', 'labels:', y.shape)"
   ]
  },
  {
   "cell_type": "markdown",
   "metadata": {},
   "source": [
    "## Train Test Split"
   ]
  },
  {
   "cell_type": "code",
   "execution_count": 32,
   "metadata": {},
   "outputs": [
    {
     "name": "stdout",
     "output_type": "stream",
     "text": [
      "train indices: (60000,) , test_indices (10000,)\n"
     ]
    }
   ],
   "source": [
    "idxs = np.arange(len(y))\n",
    "train_idxs = np.random.choice(idxs, 60000, replace=False)\n",
    "test_idxs = np.setdiff1d(idxs, train_split, assume_unique=True)\n",
    "\n",
    "print('train indices:', train_idxs.shape, ',', 'test_indices', test_idxs.shape)\n",
    "\n",
    "train_data = X[train_idxs]\n",
    "train_labels = y[train_idxs]\n",
    "\n",
    "test_data = X[test_idxs]\n",
    "test_labels = y[test_idxs]"
   ]
  },
  {
   "cell_type": "code",
   "execution_count": null,
   "metadata": {},
   "outputs": [],
   "source": []
  }
 ],
 "metadata": {
  "kernelspec": {
   "display_name": "Python 3",
   "language": "python",
   "name": "python3"
  },
  "language_info": {
   "codemirror_mode": {
    "name": "ipython",
    "version": 3
   },
   "file_extension": ".py",
   "mimetype": "text/x-python",
   "name": "python",
   "nbconvert_exporter": "python",
   "pygments_lexer": "ipython3",
   "version": "3.5.2"
  }
 },
 "nbformat": 4,
 "nbformat_minor": 2
}
