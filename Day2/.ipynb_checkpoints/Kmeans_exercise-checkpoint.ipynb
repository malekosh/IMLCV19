{
 "cells": [
  {
   "cell_type": "markdown",
   "metadata": {},
   "source": [
    "# Unsupervised Learning: K-Means Clustering"
   ]
  },
  {
   "cell_type": "markdown",
   "metadata": {},
   "source": [
    "In this notebook you will learn how to manually code a k-means clustering algorithm. The example is from the documentation of SciKitLearn package available at: https://scikit-learn.org/stable/auto_examples/cluster/plot_cluster_iris.html"
   ]
  },
  {
   "cell_type": "code",
   "execution_count": null,
   "metadata": {},
   "outputs": [],
   "source": [
    "import numpy as np\n",
    "import matplotlib.pyplot as plt\n",
    "from sklearn import datasets"
   ]
  },
  {
   "cell_type": "code",
   "execution_count": null,
   "metadata": {
    "scrolled": true
   },
   "outputs": [],
   "source": [
    "# Load iris dataset from the package:\n",
    "iris_dataset = datasets.load_iris()\n",
    "\n",
    "# attributes of 'iris_dataset':\n",
    "print(iris_dataset.keys())"
   ]
  },
  {
   "cell_type": "code",
   "execution_count": null,
   "metadata": {},
   "outputs": [],
   "source": [
    "# Load data features (only the first two):\n",
    "X = iris_dataset['data'][:,[0,1]]\n",
    "feature_names = iris_dataset['feature_names'][:2]\n",
    "print('Data features shape: ', X.shape)\n",
    "print('Data feature names: ', feature_names)\n",
    "\n",
    "print('----------------------------------')\n",
    "# Load ground-truth labels:\n",
    "y = iris_dataset['target']\n",
    "label_names = iris_dataset['target_names']\n",
    "print('Data GT labels shape: ', y.shape)\n",
    "print('Data unique labels: ', np.unique(y))\n",
    "print('Data label names: ', label_names)"
   ]
  },
  {
   "cell_type": "code",
   "execution_count": null,
   "metadata": {},
   "outputs": [],
   "source": [
    "# Plot data and GT clusters:\n",
    "y_cl = np.choose(y, [2, 0, 1]).astype(np.float)\n",
    "plt.figure(figsize=[12,5])\n",
    "plt.subplot(1,2,1)\n",
    "plt.scatter(X[:, 0], X[:, 1], edgecolor='k')\n",
    "plt.title('Data without clustering')\n",
    "plt.xlabel(feature_names[0])\n",
    "plt.ylabel(feature_names[1])\n",
    "plt.subplot(1,2,2)\n",
    "plt.scatter(X[:, 0], X[:, 1], c=y_cl, edgecolor='k')\n",
    "plt.title('Data with GT clustering')\n",
    "plt.xlabel(feature_names[0])\n",
    "plt.ylabel(feature_names[1])\n",
    "plt.show()"
   ]
  },
  {
   "cell_type": "code",
   "execution_count": null,
   "metadata": {},
   "outputs": [],
   "source": [
    "# Set numpy seed\n",
    "np.random.seed(200)\n",
    "# Try generating random numbers:\n",
    "print(np.random.choice(50,5))"
   ]
  },
  {
   "cell_type": "code",
   "execution_count": null,
   "metadata": {},
   "outputs": [],
   "source": [
    "# Choose number of centroids:\n",
    "k = 3\n",
    "\n",
    "# Initialize means with features similar to data:\n",
    "centroids = np.zeros((k, X.shape[-1]))\n",
    "for dim in range(X.shape[1]):\n",
    "    centroids[:,dim] = np.random.choice(X[:,dim], k)\n",
    "    \n",
    "print('centroids matrix:\\n', centroids, '\\ncentroids shape: ', centroids.shape)\n",
    "\n"
   ]
  },
  {
   "cell_type": "code",
   "execution_count": null,
   "metadata": {},
   "outputs": [],
   "source": [
    "# Loop n times to find best cluster centroids\n",
    "n = 10\n",
    "for i in range(n):\n",
    "    # expand dimensions of X and centroids to enable sutraction:\n",
    "    X_dists = np.expand_dims(X, axis=1)-np.expand_dims(centroids, axis=0)\n",
    "    # calculate distances from centroids:\n",
    "    X_dists_euc = np.sqrt(np.sum(X_dists**2, axis=-1))\n",
    "    # assign a cluster to each data point\n",
    "    samples_assignments = np.argmin(X_dists_euc, axis=-1)\n",
    "    # calculate new cluster centroids:\n",
    "    for ki in range(k):\n",
    "        centroids[ki,:] = np.mean(X[samples_assignments==ki,:], axis=0)\n",
    "        \n",
    "    # Plot data before and after clustering in two separate plots:\n",
    "    plt.figure(figsize=[12,5])\n",
    "    plt.subplot(121)\n",
    "    plt.title('Data before clustering')\n",
    "    plt.xlabel(feature_names[0])\n",
    "    plt.ylabel(feature_names[1])\n",
    "    plt.scatter(X[:, 0], X[:, 1])\n",
    "    plt.subplot(122)\n",
    "    plt.title('Data after iteration '+str(i+1))\n",
    "    plt.xlabel(feature_names[0])\n",
    "    plt.scatter(X[:, 0], X[:, 1], c=samples_assignments.astype(np.float))\n",
    "    plt.scatter(centroids[:, 0], centroids[:, 1],\n",
    "                c=np.arange(centroids.shape[0]).astype(np.float), edgecolor='k', marker='X', s=100)\n",
    "    plt.show()"
   ]
  },
  {
   "cell_type": "markdown",
   "metadata": {},
   "source": [
    "In this exercise you will write a function that takes in a feature matrix (X), the parameter (k) and number of iterations (n) to run the K-means algorithm and cluster the data..\n",
    "\n",
    "Edit the file 'Kmeans.py' and then run the following cell:"
   ]
  },
  {
   "cell_type": "code",
   "execution_count": null,
   "metadata": {},
   "outputs": [],
   "source": [
    "from Kmeans import run_kmeans\n",
    "\n",
    "centroids = run_kmeans(X, k=4, n=5)"
   ]
  },
  {
   "cell_type": "markdown",
   "metadata": {},
   "source": [
    "Kmeans clustering using SciKit-Learn:"
   ]
  },
  {
   "cell_type": "code",
   "execution_count": null,
   "metadata": {},
   "outputs": [],
   "source": [
    "from sklearn.cluster import KMeans\n",
    "\n",
    "# Create kmeans clustering estimator:\n",
    "kmeans_estimator = KMeans(n_clusters=3)\n",
    "\n",
    "# Feed data into the estimator:\n",
    "kmeans_estimator.fit(X)\n",
    "labels = kmeans_estimator.labels_\n",
    "\n",
    "# Plot data with labels from the estiator:\n",
    "labels = np.choose(labels, [0, 1, 2]).astype(np.float)\n",
    "plt.figure(figsize=[5,5])\n",
    "plt.scatter(X[:, 0], X[:, 1], c=labels, edgecolor='k')\n",
    "plt.title('sklearn kmeans clustering')\n",
    "plt.xlabel(feature_names[0])\n",
    "plt.ylabel(feature_names[1])\n",
    "plt.show()"
   ]
  },
  {
   "cell_type": "code",
   "execution_count": null,
   "metadata": {},
   "outputs": [],
   "source": []
  }
 ],
 "metadata": {
  "kernelspec": {
   "display_name": "Python 3",
   "language": "python",
   "name": "python3"
  },
  "language_info": {
   "codemirror_mode": {
    "name": "ipython",
    "version": 3
   },
   "file_extension": ".py",
   "mimetype": "text/x-python",
   "name": "python",
   "nbconvert_exporter": "python",
   "pygments_lexer": "ipython3",
   "version": "3.6.9"
  }
 },
 "nbformat": 4,
 "nbformat_minor": 4
}
