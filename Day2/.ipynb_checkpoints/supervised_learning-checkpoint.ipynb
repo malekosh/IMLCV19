{
 "cells": [
  {
   "cell_type": "markdown",
   "metadata": {},
   "source": [
    "# Supervised Learning"
   ]
  },
  {
   "cell_type": "code",
   "execution_count": 1,
   "metadata": {},
   "outputs": [],
   "source": [
    "import numpy as np\n",
    "from sklearn.datasets import fetch_openml\n",
    "import matplotlib.pyplot as plt\n",
    "import os"
   ]
  },
  {
   "cell_type": "code",
   "execution_count": 2,
   "metadata": {
    "scrolled": false
   },
   "outputs": [
    {
     "name": "stdout",
     "output_type": "stream",
     "text": [
      "data: (70000, 784) , labels: (70000,)\n"
     ]
    }
   ],
   "source": [
    "data_path = os.path.join(os.path.dirname(os.getcwd()), 'datasets')\n",
    "X, y = fetch_openml('mnist_784', version=1, return_X_y=True, data_home=data_path)\n",
    "print('data:', X.shape, ',', 'labels:', y.shape)"
   ]
  },
  {
   "cell_type": "markdown",
   "metadata": {},
   "source": [
    "### Exploring the data"
   ]
  },
  {
   "cell_type": "code",
   "execution_count": 4,
   "metadata": {
    "scrolled": true
   },
   "outputs": [
    {
     "name": "stdout",
     "output_type": "stream",
     "text": [
      "classes: ['0' '1' '2' '3' '4' '5' '6' '7' '8' '9']\n",
      "classes counts: [6903 7877 6990 7141 6824 6313 6876 7293 6825 6958]\n",
      "X_imgs: (70000, 28, 28)\n"
     ]
    },
    {
     "data": {
      "text/plain": [
       "Text(0.5, 1.0, '3')"
      ]
     },
     "execution_count": 4,
     "metadata": {},
     "output_type": "execute_result"
    },
    {
     "data": {
      "image/png": "[encoded data removed]",
      "text/plain": [
       "<Figure size 720x480 with 3 Axes>"
      ]
     },
     "metadata": {
      "needs_background": "light"
     },
     "output_type": "display_data"
    }
   ],
   "source": [
    "unique_labels, counts = np.unique(y, return_counts=True)\n",
    "num_classes = len(unique_labels)\n",
    "print('classes:', unique_labels)\n",
    "print('classes counts:', counts)\n",
    "\n",
    "X_imgs = X.reshape(-1,28,28)\n",
    "print('X_imgs:', X_imgs.shape)\n",
    "\n",
    "idx1, idx2, idx3 = np.random.randint(0, num_classes, 3)\n",
    "\n",
    "fig, ax = plt.subplots(1, 3, dpi=120)\n",
    "ax[0].imshow(X_imgs[idx1]); ax[1].imshow(X_imgs[idx2]); ax[2].imshow(X_imgs[idx3]);\n",
    "ax[0].axis('off'); ax[1].axis('off'); ax[2].axis('off');\n",
    "ax[0].set_title(str(y[idx1])); ax[1].set_title(str(y[idx2])); ax[2].set_title(str(y[idx3]))"
   ]
  },
  {
   "cell_type": "markdown",
   "metadata": {},
   "source": [
    "## Nearest Neighbors"
   ]
  },
  {
   "cell_type": "markdown",
   "metadata": {},
   "source": [
    "### Train-Test Split"
   ]
  },
  {
   "cell_type": "code",
   "execution_count": 5,
   "metadata": {},
   "outputs": [
    {
     "name": "stdout",
     "output_type": "stream",
     "text": [
      "train data: (200, 784) , train labels: (200,)\n",
      "test data: (10, 784) , test labels: (10,)\n"
     ]
    }
   ],
   "source": [
    "n_train_pc = 20 # number of train samples per class\n",
    "n_test_pc = 1 # number of test samples per class\n",
    "\n",
    "n_train = n_train_pc * num_classes\n",
    "n_test = n_test_pc * num_classes\n",
    "\n",
    "train_data = np.zeros((num_classes,n_train_pc,784))\n",
    "train_labels = np.zeros((num_classes,n_train_pc))\n",
    "\n",
    "test_data = np.zeros((num_classes,n_test_pc,784))\n",
    "test_labels = np.zeros((num_classes,n_test_pc))\n",
    "\n",
    "for l_idx, l in enumerate(unique_labels):\n",
    "    idxs = np.squeeze(np.argwhere(y == l))\n",
    "    idxs = np.random.choice(idxs, n_train_pc + n_test_pc, replace=False)\n",
    "    \n",
    "    train_data[l_idx] = X[idxs[:n_train_pc]]\n",
    "    train_labels[l_idx] = y[idxs[:n_train_pc]]\n",
    "    \n",
    "    test_data[l_idx] = X[idxs[n_train_pc:]]\n",
    "    test_labels[l_idx] = y[idxs[n_train_pc:]]\n",
    "    \n",
    "# ravel the data\n",
    "train_data = train_data.reshape(-1,784)\n",
    "train_labels = np.ravel(train_labels).astype(np.int)\n",
    "\n",
    "test_data = test_data.reshape(-1,784)\n",
    "test_labels = np.ravel(test_labels).astype(np.int)\n",
    "\n",
    "# shuffle the data\n",
    "train_idxs = np.arange(len(train_data))\n",
    "_ = np.random.shuffle(train_idxs)\n",
    "\n",
    "train_data = train_data[train_idxs]\n",
    "train_labels = train_labels[train_idxs]\n",
    "\n",
    "test_idxs = np.arange(len(test_data))\n",
    "_ = np.random.shuffle(test_idxs)\n",
    "\n",
    "test_data = test_data[test_idxs]\n",
    "test_labels = test_labels[test_idxs]\n",
    "\n",
    "print('train data:', train_data.shape, ',', 'train labels:', train_labels.shape)\n",
    "print('test data:', test_data.shape, ',', 'test labels:', test_labels.shape)"
   ]
  },
  {
   "cell_type": "markdown",
   "metadata": {},
   "source": [
    "### k-NN classification"
   ]
  },
  {
   "cell_type": "code",
   "execution_count": 29,
   "metadata": {
    "scrolled": true
   },
   "outputs": [
    {
     "name": "stdout",
     "output_type": "stream",
     "text": [
      "sqaured_diff: (10, 200, 784) , sum_squared_diff: (10, 200) , euclidean_distance: (10, 200)\n",
      "sort_idxs: (10, 200) , voting_idxs: (10, 5)\n",
      "\n",
      "k_predicted_labels:\n",
      " [[6 6 6 6 6]\n",
      " [4 1 1 1 1]\n",
      " [7 7 7 5 7]\n",
      " [0 0 6 0 5]\n",
      " [1 1 1 1 1]\n",
      " [5 6 5 6 5]\n",
      " [8 8 8 3 8]\n",
      " [2 2 2 2 2]\n",
      " [3 5 3 5 5]\n",
      " [9 4 9 7 9]]\n",
      "\n",
      "votes:\n",
      " [[0. 0. 0. 0. 0. 0. 5. 0. 0. 0.]\n",
      " [0. 4. 0. 0. 1. 0. 0. 0. 0. 0.]\n",
      " [0. 0. 0. 0. 0. 1. 0. 4. 0. 0.]\n",
      " [3. 0. 0. 0. 0. 1. 1. 0. 0. 0.]\n",
      " [0. 5. 0. 0. 0. 0. 0. 0. 0. 0.]\n",
      " [0. 0. 0. 0. 0. 3. 2. 0. 0. 0.]\n",
      " [0. 0. 0. 1. 0. 0. 0. 0. 4. 0.]\n",
      " [0. 0. 5. 0. 0. 0. 0. 0. 0. 0.]\n",
      " [0. 0. 0. 2. 0. 3. 0. 0. 0. 0.]\n",
      " [0. 0. 0. 0. 1. 0. 0. 1. 0. 3.]] \n",
      "\n",
      "predicted_labels: [6 1 7 0 1 5 8 2 5 9] \n",
      "test_labels:      [6 4 7 0 1 5 8 2 3 9]\n"
     ]
    }
   ],
   "source": [
    "squared_diff = (test_data[:,np.newaxis,:] - train_data[np.newaxis, ...]) ** 2\n",
    "sum_squared_diff = np.sum(squared_diff, axis=-1)\n",
    "euclidean_distance = np.sqrt(sum_squared_diff)\n",
    "\n",
    "print('sqaured_diff:', squared_diff.shape, ',', 'sum_squared_diff:', sum_squared_diff.shape, ',',     \n",
    "      'euclidean_distance:', euclidean_distance.shape)\n",
    "\n",
    "k = 5 # number of nearest neighbors (number of votes)\n",
    "sort_idxs = np.argsort(euclidean_distance, axis=-1)\n",
    "voting_idxs = sort_idxs[:,:k]\n",
    "\n",
    "print('sort_idxs:', sort_idxs.shape, ',', 'voting_idxs:', voting_idxs.shape)\n",
    "\n",
    "k_predicted_labels = train_labels[voting_idxs]\n",
    "print('\\nk_predicted_labels:\\n', k_predicted_labels)\n",
    "\n",
    "votes = np.zeros((n_test,num_classes))\n",
    "test_sample_idxs = np.arange(n_test).reshape(-1,1)\n",
    "_ = np.add.at(votes, (test_sample_idxs, k_predicted_labels), 1)\n",
    "print('\\nvotes:\\n', votes, '\\n')\n",
    "\n",
    "predicted_labels = np.argmax(votes, axis=1)\n",
    "print('predicted_labels:', predicted_labels, '\\ntest_labels:     ', test_labels)"
   ]
  },
  {
   "cell_type": "markdown",
   "metadata": {},
   "source": [
    "### k-NN classification using scikitlearn"
   ]
  },
  {
   "cell_type": "code",
   "execution_count": 30,
   "metadata": {},
   "outputs": [],
   "source": [
    "from sklearn.neighbors.classification import KNeighborsClassifier \n",
    "\n",
    "kNN = KNeighborsClassifier(n_neighbors=3)\n",
    "kNN.fit(train_data, train_labels)\n",
    "\n",
    "predicted_labels_sklearn = kNN.predict(test_data)"
   ]
  },
  {
   "cell_type": "markdown",
   "metadata": {},
   "source": [
    "### Evaluation"
   ]
  },
  {
   "cell_type": "code",
   "execution_count": 35,
   "metadata": {},
   "outputs": [
    {
     "name": "stdout",
     "output_type": "stream",
     "text": [
      "num_correct_ours: 8 , accuracy_ours: 0.8\n",
      "num_correct_sklearn: 9 , accuracy_sklearn: 0.8\n"
     ]
    }
   ],
   "source": [
    "num_correct_ours = np.sum(predicted_labels == test_labels)\n",
    "accuracy_ours = num_correct / n_test\n",
    "\n",
    "num_correct_sklearn = np.sum(predicted_labels_sklearn == test_labels)\n",
    "accuracy_sklearn = num_correct / n_test\n",
    "\n",
    "print('num_correct_ours:', num_correct_ours, ',', 'accuracy_ours:', accuracy_ours)\n",
    "print('num_correct_sklearn:', num_correct_sklearn, ',', 'accuracy_sklearn:', accuracy_sklearn)"
   ]
  },
  {
   "cell_type": "code",
   "execution_count": 40,
   "metadata": {},
   "outputs": [
    {
     "name": "stdout",
     "output_type": "stream",
     "text": [
      "(200, 2)\n",
      "(10, 2)\n"
     ]
    },
    {
     "data": {
      "text/plain": [
       "Text(0.5, 1.0, 'first two principal components of train and test data of labels [6, 1]')"
      ]
     },
     "execution_count": 40,
     "metadata": {},
     "output_type": "execute_result"
    },
    {
     "data": {
      "image/png": "[encoded data removed]",
      "text/plain": [
       "<Figure size 600x400 with 1 Axes>"
      ]
     },
     "metadata": {
      "needs_background": "light"
     },
     "output_type": "display_data"
    }
   ],
   "source": [
    "from sklearn.decomposition import PCA\n",
    "\n",
    "# apply PCA for dimensionality reduction\n",
    "pca = PCA(n_components=2)\n",
    "\n",
    "pc_train = pca.fit_transform(train_data)\n",
    "print(pc_train.shape)\n",
    "\n",
    "pc_test = pca.transform(test_data)\n",
    "print(pc_test.shape)\n",
    "\n",
    "vis_labels = [6,1]\n",
    "\n",
    "vis_train_l1 = pc_train[train_labels == vis_labels[0]]\n",
    "vis_train_l2 = pc_train[train_labels == vis_labels[1]]\n",
    "\n",
    "vis_test_l1 = pc_test[test_labels == vis_labels[0]]\n",
    "vis_test_l2 = pc_test[test_labels == vis_labels[1]]\n",
    "\n",
    "fig = plt.figure(dpi=100)\n",
    "plt.scatter(vis_train_l1[:,0], vis_train_l1[:,1], c='b', label='train ' + str(vis_labels[0]))\n",
    "plt.scatter(vis_train_l2[:,0], vis_train_l2[:,1], c='r', label='train ' + str(vis_labels[1])) \n",
    "\n",
    "plt.scatter(vis_test_l1[:,0], vis_test_l1[:,1], c='b', s=200, marker='+', label='test ' + str(vis_labels[0]))\n",
    "plt.scatter(vis_test_l2[:,0], vis_test_l2[:,1], c='r', s=200, marker='+', label='test ' + str(vis_labels[1])) \n",
    "\n",
    "plt.legend()\n",
    "plt.xlabel('1st pc')\n",
    "plt.ylabel('2nd pc')\n",
    "plt.title('first two principal components of train and test data of labels ' + str(vis_labels))"
   ]
  }
 ],
 "metadata": {
  "kernelspec": {
   "display_name": "Python 3",
   "language": "python",
   "name": "python3"
  },
  "language_info": {
   "codemirror_mode": {
    "name": "ipython",
    "version": 3
   },
   "file_extension": ".py",
   "mimetype": "text/x-python",
   "name": "python",
   "nbconvert_exporter": "python",
   "pygments_lexer": "ipython3",
   "version": "3.5.2"
  }
 },
 "nbformat": 4,
 "nbformat_minor": 2
}
