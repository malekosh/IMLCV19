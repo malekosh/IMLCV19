{
 "cells": [
  {
   "cell_type": "code",
   "execution_count": null,
   "metadata": {},
   "outputs": [],
   "source": [
    "import numpy as np \n",
    "from skimage.measure import regionprops\n",
    "from matplotlib import pyplot as plt\n",
    "import matplotlib.image as mpimg\n",
    "import os"
   ]
  },
  {
   "cell_type": "markdown",
   "metadata": {},
   "source": [
    "# Image Processing\n"
   ]
  },
  {
   "cell_type": "code",
   "execution_count": null,
   "metadata": {},
   "outputs": [],
   "source": [
    "#Image reading and Displaying\n",
    "\n",
    "img = mpimg.imread(os.getcwd()+'/ims/rgb1.jpeg')\n",
    "\n",
    "plt.figure(dpi=100)\n",
    "plt.imshow(img[:,:])\n",
    "plt.show()\n",
    "print ('The shape of our RGB image is', img.shape)"
   ]
  },
  {
   "cell_type": "code",
   "execution_count": null,
   "metadata": {},
   "outputs": [],
   "source": [
    "#\n",
    "#plt.rcParams['image.cmap'] = 'gray'\n",
    "#only red\n",
    "im_r = img[:,:,0]\n",
    "#only green\n",
    "im_g= img[:,:,1]\n",
    "#only blue\n",
    "im_b = img[:,:,2]\n",
    "fig,ax = plt.subplots(1,3,dpi=150)\n",
    "ax[0].imshow(im_r); ax[1].imshow(im_g); ax[2].imshow(im_b);\n",
    "ax[0].axis('off'); ax[1].axis('off'); ax[2].axis('off');\n",
    "ax[0].set_title('Red Channel'); ax[1].set_title('Green Channel'); ax[2].set_title('Blue Channel')\n",
    "plt.show()"
   ]
  },
  {
   "cell_type": "code",
   "execution_count": null,
   "metadata": {},
   "outputs": [],
   "source": [
    "#Combining RGB\n",
    "img = mpimg.imread(os.getcwd()+'/ims/rgb1.png')\n",
    "\n",
    "print  (img.shape)\n",
    "\n",
    "def rgb2gray(rgb):\n",
    "    gray = np.dot(rgb[...,:3], [0.2989, 0.5870, 0.1140])\n",
    "    return gray\n",
    "\n",
    "fig,ax = plt.subplots(1,2,dpi=150)\n",
    "im_c = rgb2gray(img)\n",
    "ax[0].imshow(im_c)\n",
    "im_av = np.mean(img,2)\n",
    "ax[1].imshow(im_av)\n",
    "\n",
    "ax[0].axis('off'); ax[1].axis('off'); \n",
    "ax[0].set_title('Weighted Average'); ax[1].set_title('Normal Average');\n",
    "\n",
    "plt.show()"
   ]
  },
  {
   "cell_type": "code",
   "execution_count": null,
   "metadata": {},
   "outputs": [],
   "source": [
    "img_coin = mpimg.imread(os.getcwd()+'/ims/coins.jpg')\n",
    "plt.imshow(img_coin)\n",
    "# plt.savefig(fname, dpi=200)\n",
    "plt.show()"
   ]
  },
  {
   "cell_type": "code",
   "execution_count": null,
   "metadata": {},
   "outputs": [],
   "source": [
    "#Convert to greyscale\n",
    "plt.rcParams['image.cmap'] = 'gray'\n",
    "\n",
    "\n",
    "#only red\n",
    "im_r = img_coin[:,:,0]\n",
    "#only green\n",
    "im_g= img_coin[:,:,1]\n",
    "#only blue\n",
    "im_b = img_coin[:,:,2]\n",
    "fig,ax = plt.subplots(1,3,dpi=150)\n",
    "ax[0].imshow(im_r); ax[1].imshow(im_g); ax[2].imshow(im_b);\n",
    "ax[0].axis('off'); ax[1].axis('off'); ax[2].axis('off');\n",
    "ax[0].set_title('Red Channel'); ax[1].set_title('Green Channel'); ax[2].set_title('Blue Channel')\n",
    "plt.show()"
   ]
  },
  {
   "cell_type": "code",
   "execution_count": null,
   "metadata": {},
   "outputs": [],
   "source": [
    "# Histograms are very useful for observing the distribution of intensities in a grey-scale image\n",
    "_ = plt.hist(im_r, bins=10)\n",
    "plt.title(\"Histogram with 'auto' bins\")\n",
    "plt.show()"
   ]
  },
  {
   "cell_type": "code",
   "execution_count": null,
   "metadata": {},
   "outputs": [],
   "source": [
    "im1 = im_r.copy()\n",
    "im1[im1<30]=0\n",
    "im1[im1!=0]=1\n",
    "plt.imshow(1-im1)"
   ]
  },
  {
   "cell_type": "code",
   "execution_count": null,
   "metadata": {},
   "outputs": [],
   "source": [
    "plt.figure()\n",
    "plt.imshow(img_coin)\n",
    "plt.imshow(im1,cmap='gnuplot2',alpha = 0.5)\n",
    "plt.show()"
   ]
  },
  {
   "cell_type": "markdown",
   "metadata": {},
   "source": [
    "# Image Filtering"
   ]
  },
  {
   "cell_type": "code",
   "execution_count": null,
   "metadata": {},
   "outputs": [],
   "source": [
    "from scipy import ndimage"
   ]
  },
  {
   "cell_type": "code",
   "execution_count": null,
   "metadata": {},
   "outputs": [],
   "source": [
    "img = mpimg.imread(os.getcwd()+'/ims/Dead_tree_salt_and_pepper.png')"
   ]
  },
  {
   "cell_type": "code",
   "execution_count": null,
   "metadata": {},
   "outputs": [],
   "source": [
    "plt.rcParams['image.cmap'] = 'gray'\n",
    "fig,ax = plt.subplots(1,3,dpi=150)\n",
    "#Median Filtering\n",
    "im_med = ndimage.median_filter(img, size=1)\n",
    "#Gaussian Filtering\n",
    "im_gau = ndimage.gaussian_filter(img, sigma=5)\n",
    "\n",
    "ax[0].imshow(img); ax[1].imshow(im_med); ax[2].imshow(im_gau);\n",
    "ax[0].axis('off'); ax[1].axis('off'); ax[2].axis('off');\n",
    "ax[0].set_title('Original Image'); ax[1].set_title('Median Filtered'); ax[2].set_title('Gaussian Filtered')\n",
    "plt.show()"
   ]
  },
  {
   "cell_type": "code",
   "execution_count": null,
   "metadata": {},
   "outputs": [],
   "source": [
    "from skimage.color import rgb2gray\n",
    "im = rgb2gray(mpimg.imread(os.getcwd()+'/ims/original-cameraman-image.png'))\n",
    "#image source: https://www.researchgate.net/figure/The-original-image-of-Cameraman_fig1_282716754\n",
    "noise = 0.25 * np.random.randn(im.shape[0],im.shape[1]);\n",
    "corrupted = im + noise\n",
    "fig,ax = plt.subplots(1,2,dpi=150)\n",
    "ax[0].imshow(im)\n",
    "ax[1].imshow(corrupted)\n",
    "\n",
    "ax[0].axis('off'); ax[1].axis('off'); \n",
    "ax[0].set_title('Original'); ax[1].set_title('With noise');\n",
    "\n",
    "plt.show()\n"
   ]
  },
  {
   "cell_type": "code",
   "execution_count": null,
   "metadata": {},
   "outputs": [],
   "source": [
    "M_a = np.ones((3,3)); # Average Mask\n",
    "mean_filtered = ndimage.filters.convolve(corrupted,M_a,mode='reflect');\n",
    "fig,ax = plt.subplots(1,3,dpi=150)\n",
    "#Median Filtering\n",
    "im_med = ndimage.median_filter(corrupted, size=5)\n",
    "#Gaussian Filtering\n",
    "im_gau = ndimage.gaussian_filter(corrupted, sigma=3)\n",
    "\n",
    "ax[0].imshow(mean_filtered); ax[1].imshow(im_gau); ax[2].imshow(im_med);\n",
    "ax[0].axis('off'); ax[1].axis('off'); ax[2].axis('off');\n",
    "ax[0].set_title('Mean Filtered'); ax[1].set_title('Gaussian Filtered'); ax[2].set_title('Median Filtered')\n",
    "plt.show()"
   ]
  },
  {
   "cell_type": "code",
   "execution_count": null,
   "metadata": {},
   "outputs": [],
   "source": [
    "# Task1: Investigate the effects of changing the filter parameters for the median and gaussian filters\n",
    "# then choose your optimal parameters\n",
    "#Task2: Test how applying the same chosen filter multiple times affect the result\n"
   ]
  },
  {
   "cell_type": "code",
   "execution_count": null,
   "metadata": {},
   "outputs": [],
   "source": [
    "#Sobel Filter (edge enhancement)\n",
    "from skimage.color import rgb2gray\n",
    "im = rgb2gray(mpimg.imread(os.getcwd()+'/ims/original-cameraman-image.png'))\n",
    "im_s = ndimage.sobel(im)\n",
    "\n",
    "fig,ax = plt.subplots(1,2,dpi=150)\n",
    "\n",
    "ax[0].imshow(im); ax[1].imshow(im_s); \n",
    "ax[0].axis('off'); ax[1].axis('off');\n",
    "ax[0].set_title('Original Image'); ax[1].set_title('Sobel filtered'); \n",
    "plt.show()"
   ]
  },
  {
   "cell_type": "markdown",
   "metadata": {},
   "source": [
    "# MNIST"
   ]
  },
  {
   "cell_type": "code",
   "execution_count": null,
   "metadata": {},
   "outputs": [],
   "source": [
    "from sklearn.datasets import fetch_openml\n",
    "import os\n",
    "data_path = os.getcwd()+\"/datasets\"\n",
    "X, y = fetch_openml('mnist_784', version=1, return_X_y=True,data_home=data_path)"
   ]
  },
  {
   "cell_type": "code",
   "execution_count": null,
   "metadata": {},
   "outputs": [],
   "source": []
  }
 ],
 "metadata": {
  "kernelspec": {
   "display_name": "Python 3",
   "language": "python",
   "name": "python3"
  },
  "language_info": {
   "codemirror_mode": {
    "name": "ipython",
    "version": 3
   },
   "file_extension": ".py",
   "mimetype": "text/x-python",
   "name": "python",
   "nbconvert_exporter": "python",
   "pygments_lexer": "ipython3",
   "version": "3.6.9"
  }
 },
 "nbformat": 4,
 "nbformat_minor": 2
}
