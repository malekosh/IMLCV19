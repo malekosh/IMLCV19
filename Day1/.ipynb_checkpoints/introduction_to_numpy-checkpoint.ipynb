{
 "cells": [
  {
   "cell_type": "markdown",
   "metadata": {},
   "source": [
    "# Numpy"
   ]
  },
  {
   "cell_type": "markdown",
   "metadata": {},
   "source": [
    "## Basic Indexing and Operations"
   ]
  },
  {
   "cell_type": "code",
   "execution_count": null,
   "metadata": {
    "scrolled": true
   },
   "outputs": [],
   "source": [
    "import numpy as np\n",
    "\n",
    "# create arrays ---------------------------\n",
    "a1 = np.array([0,1,2,3,4,5])\n",
    "a2 = np.arange(6)\n",
    "\n",
    "print('a1:', a1, ', shape:', a1.shape)\n",
    "print('a2:', a2, ', shape:', a2.shape)\n",
    "print('is a1 equal to a2? -->', a1 == a2)"
   ]
  },
  {
   "cell_type": "code",
   "execution_count": null,
   "metadata": {},
   "outputs": [],
   "source": [
    "# create array ---------------------------\n",
    "a1 = np.array([[1,2,3],[4,5,6]])\n",
    "\n",
    "# operations -----------------------------\n",
    "a2 = a1 * -1\n",
    "a_add = a1 + a2\n",
    "a_mul = a1 * a2\n",
    "a_matmul = np.matmul(a1,a2.T)\n",
    "\n",
    "print('a1:\\n', a1, ', shape:', a1.shape, '\\n')\n",
    "print('a2:\\n', a2, ', shape:', a2.shape, '\\n')\n",
    "print('a_add:\\n', a_add, ', shape:', a_add.shape, '\\n')\n",
    "print('a_mul:\\n', a_mul, ', shape:', a_mul.shape, '\\n')\n",
    "print('a_matmul:\\n', a_matmul, ', shape:', a_matmul.shape, '\\n')"
   ]
  },
  {
   "cell_type": "code",
   "execution_count": null,
   "metadata": {},
   "outputs": [],
   "source": [
    "# ones & zeros --------------------------\n",
    "a1 = np.ones((5,2))\n",
    "a2 = np.zeros((5,2))\n",
    "\n",
    "# concatente/stack ----------------------\n",
    "a_concat = np.concatenate([a1,a2], axis=-1)\n",
    "a_stack = np.stack([a1,a2], axis=-1) # stacking column-wise when axis=-1\n",
    "\n",
    "print('a_concat:\\n', a_concat, ', shape:', a_concat.shape, '\\n')\n",
    "print('a_stack:\\n', a_stack, ', shape:', a_stack.shape)"
   ]
  },
  {
   "cell_type": "code",
   "execution_count": null,
   "metadata": {
    "scrolled": false
   },
   "outputs": [],
   "source": [
    "# create array ------------------------\n",
    "a1 = np.arange(12)\n",
    "print('a1:\\n', a1, ', shape:', a1.shape, '\\n')\n",
    "\n",
    "# reshape -----------------------------\n",
    "a1 = a1.reshape((3,2,2))\n",
    "print('a1:\\n', a1, ', shape:', a1.shape, '<-- reshaping a1', '\\n')\n",
    "\n",
    "# index -------------------------------\n",
    "a1[0] *= -1\n",
    "print('a1:\\n', a1, ', shape:', a1.shape, '<-- multiplying first array in a1 by -1', '\\n')\n",
    "\n",
    "a1[-1,0] *= -1\n",
    "print('a1:\\n', a1, ', shape:', a1.shape, '<-- multiplying last array, first row in a1 by -1', '\\n')\n",
    "\n",
    "a2 = a1[1:]\n",
    "print('a2:\\n', a2, ', shape:', a2.shape, '<-- extracting all arrays in a1 except for first one', '\\n')\n",
    "\n",
    "a3 = a1[:-1,:,0]\n",
    "print('a3:\\n', a3, ', shape:', a3.shape, '<-- extracting first column in all arrays in a1 except for last one', '\\n')"
   ]
  },
  {
   "cell_type": "markdown",
   "metadata": {},
   "source": [
    "## Advanced Indexing and Operations"
   ]
  },
  {
   "cell_type": "code",
   "execution_count": null,
   "metadata": {},
   "outputs": [],
   "source": [
    "\n",
    "# create array ----------------------\n",
    "a = np.arange(8).reshape((2,2,2))\n",
    "print('a:\\n', a, ', shape:', a.shape, '\\n')\n",
    "\n",
    "a1 = a[[0,1],[1,0]] \n",
    "print('a1:\\n', a1, ', shape:', a1.shape, '<-- first array - second row, second array - first row', '\\n')\n",
    "\n",
    "idxs = np.array([[0,1],[1,0]])\n",
    "a2 = a[idxs]\n",
    "print('a2:\\n', a2, ', shape:', a2.shape, ', idxs shape:', idxs.shape,\n",
    "      '\\n             <-- first array - second array, second array - first array')\n",
    "\n",
    "a3 = a[idxs, idxs]\n",
    "print('a3:\\n', a3, ', shape:', a3.shape, '<-- first array - first row, second array - second row,', '\\n'\n",
    "      '          second array - second row, first array - first row, \\n')"
   ]
  },
  {
   "cell_type": "code",
   "execution_count": null,
   "metadata": {},
   "outputs": [],
   "source": [
    "a = np.random.randint(low=-2, high=2, size=(3,3,2)).astype(np.float)\n",
    "print('a:\\n', a, ', shape:', a.shape, '\\n')\n",
    "\n",
    "m = np.mean(a)\n",
    "print('total mean of a before NaN substitution -->', np.around(m, decimals=2), '\\n')\n",
    "\n",
    "m_ax = np.mean(a, axis=1)\n",
    "print('mean along second axis of a before NaN substitution -->\\n', \n",
    "      np.around(m_ax, decimals=2), ', shape:', m_ax.shape, '\\n')\n",
    "\n",
    "print('\\n', '----------------------------------------------------------------', ' \\n')\n",
    "\n",
    "a[a==0] = np.nan\n",
    "print('a:\\n', a, ', shape:', a.shape, '<-- substituting zero with NaN', '\\n')\n",
    "\n",
    "m = np.nanmean(a)\n",
    "print('total mean of a after NaN substitution -->', np.around(m, decimals=2), '\\n')\n",
    "\n",
    "m_ax = np.nanmean(a, axis=1)\n",
    "print('mean along second axis of a after NaN substitution -->\\n', \n",
    "      np.around(m_ax, decimals=2), ', shape:', m_ax.shape, '\\n')"
   ]
  },
  {
   "cell_type": "markdown",
   "metadata": {},
   "source": [
    "## Vectorization and Broadcasting"
   ]
  },
  {
   "cell_type": "code",
   "execution_count": null,
   "metadata": {},
   "outputs": [],
   "source": [
    "def mul_fl(x, y):\n",
    "    '''\n",
    "    Input:\n",
    "        x: (m,)\n",
    "        y: (n)\n",
    "    Output:\n",
    "        result: (m,n)\n",
    "    '''\n",
    "    \n",
    "    m, n = len(x), len(y)\n",
    "    result = np.zeros((m,n))\n",
    "    \n",
    "    for x_idx, ex in enumerate(x):\n",
    "        for y_idx, ey in enumerate(y):\n",
    "            result[x_idx,y_idx] = ex * ey\n",
    "            \n",
    "    return result\n",
    "\n",
    "\n",
    "def mul_vec(x, y):\n",
    "    '''\n",
    "    Input:\n",
    "        x: (m,)\n",
    "        y: (n)\n",
    "    Output:\n",
    "        result: (m,n)\n",
    "    '''\n",
    "    \n",
    "    result = x[:,np.newaxis] * y\n",
    "    \n",
    "    return result\n",
    "    "
   ]
  },
  {
   "cell_type": "code",
   "execution_count": null,
   "metadata": {},
   "outputs": [],
   "source": [
    "import time\n",
    "\n",
    "# create arrays --------------------------------\n",
    "x = np.ones(1000) * 2\n",
    "y = np.ones(2000) * 3\n",
    "\n",
    "# multiplication using for loops ---------------\n",
    "start = time.time() # start timing\n",
    "mul_result = mul_fl(x, y)\n",
    "end = time.time() # end timing\n",
    "print('time needed for element-wise multiplication using for loop:', end - start)\n",
    "\n",
    "# multiplication using vectorization -----------\n",
    "start = time.time() # start timing\n",
    "mul_result = mul_vec(x, y)\n",
    "end = time.time() # end timing\n",
    "print('time needed for element-wise multiplication using vectorization:', end - start)\n"
   ]
  },
  {
   "cell_type": "markdown",
   "metadata": {},
   "source": [
    "#### Another example"
   ]
  },
  {
   "cell_type": "code",
   "execution_count": null,
   "metadata": {},
   "outputs": [],
   "source": [
    "# create arrays -------------------------------\n",
    "x = np.ones((10,3)) * 2\n",
    "y = np.ones((10,2)) * 3\n",
    "\n",
    "# vectorizatiion ------------------------------\n",
    "mul_result = x[:,:,np.newaxis] * y[:,np.newaxis,:]\n",
    "print('mul_result shape =', mul_result.shape)\n",
    "\n",
    "mul_result = x[:,np.newaxis,:] * y[:,:,np.newaxis]\n",
    "print('mul_result shape =', mul_result.shape)"
   ]
  }
 ],
 "metadata": {
  "kernelspec": {
   "display_name": "Python 3",
   "language": "python",
   "name": "python3"
  },
  "language_info": {
   "codemirror_mode": {
    "name": "ipython",
    "version": 3
   },
   "file_extension": ".py",
   "mimetype": "text/x-python",
   "name": "python",
   "nbconvert_exporter": "python",
   "pygments_lexer": "ipython3",
   "version": "3.6.9"
  }
 },
 "nbformat": 4,
 "nbformat_minor": 2
}
