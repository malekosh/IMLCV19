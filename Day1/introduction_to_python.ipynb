{
 "cells": [
  {
   "cell_type": "markdown",
   "metadata": {},
   "source": [
    "# Python Language"
   ]
  },
  {
   "cell_type": "markdown",
   "metadata": {},
   "source": [
    "## Numbers and Strings"
   ]
  },
  {
   "cell_type": "code",
   "execution_count": 1,
   "metadata": {
    "scrolled": true
   },
   "outputs": [
    {
     "name": "stdout",
     "output_type": "stream",
     "text": [
      "n_op: 12.5\n",
      "n_op2: 5.0\n",
      "n_op3: 49\n",
      "n_op4: 3.3333333333333335\n",
      "n_op5: 3\n",
      "n_mod: 1\n"
     ]
    }
   ],
   "source": [
    "# create variables of numbers -------\n",
    "n1 = 10\n",
    "n2 = 2.5 \n",
    "\n",
    "# operations ------------------------\n",
    "n_op = n1 + n2 \n",
    "n_op2 = n1 - n2*2\n",
    "n_op3 = (n1 - 3) ** 2\n",
    "n_op4 = n1 / 3\n",
    "n_op5 = n1 // 3 \n",
    "print('n_op:', n_op); print('n_op2:', n_op2)\n",
    "print('n_op3:', n_op3)\n",
    "print('n_op4:', n_op4); print('n_op5:', n_op5)\n",
    "\n",
    "# mod -------------------------------\n",
    "n_mod = n1 % 3 \n",
    "print('n_mod:', n_mod)\n"
   ]
  },
  {
   "cell_type": "code",
   "execution_count": 2,
   "metadata": {},
   "outputs": [
    {
     "name": "stdout",
     "output_type": "stream",
     "text": [
      "s_conc: HelloWorld , length: 10\n",
      "s_conc2: Hello World , length: 11 \n",
      "\n",
      "s_join: Hello World , length: 11\n",
      "s_join2: Hello/World , length: 11 \n",
      "\n",
      "upper case --> s_upper: HELLO WORLD , length: 11\n",
      "lower case --> s_lower: hello world , length: 11 \n",
      "\n",
      "first letter --> s_fl = H , length: 1\n",
      "last letter --> s_ll = d , length: 1\n"
     ]
    }
   ],
   "source": [
    "# create variables of strings ---------------\n",
    "s1 = 'Hello'\n",
    "s2 = 'World'\n",
    "\n",
    "# concatenate -------------------------------\n",
    "s_conc = s1 + s2\n",
    "s_conc2 = s1 + ' ' + s2\n",
    "print('s_conc:', s_conc, ', length:', len(s_conc))\n",
    "print('s_conc2:', s_conc2, ', length:', len(s_conc2), '\\n')\n",
    "\n",
    "# join ------------------------------\n",
    "s_join = ' '.join((s1,s2))\n",
    "s_join2 = '/'.join((s1,s2))\n",
    "print('s_join:', s_join, ', length:', len(s_join))\n",
    "print('s_join2:', s_join2, ', length:', len(s_join2), '\\n')\n",
    "\n",
    "# capital/small ---------------------\n",
    "s_upper = s_join.upper()\n",
    "s_lower = s_join.lower()\n",
    "print('upper case -->', 's_upper:', s_upper, ', length:', len(s_upper))\n",
    "print('lower case -->', 's_lower:', s_lower, ', length:', len(s_lower),'\\n')\n",
    "\n",
    "# index -----------------------------\n",
    "s_fl = s_join[0]\n",
    "s_ll = s_join[-1]\n",
    "print('first letter -->', 's_fl =', s_fl, ', length:', len(s_fl))\n",
    "print('last letter -->', 's_ll =', s_ll, ', length:', len(s_ll))"
   ]
  },
  {
   "cell_type": "code",
   "execution_count": null,
   "metadata": {},
   "outputs": [],
   "source": []
  },
  {
   "cell_type": "code",
   "execution_count": 3,
   "metadata": {},
   "outputs": [
    {
     "name": "stdout",
     "output_type": "stream",
     "text": [
      "l1: [1, 2, 3, 4, 5]\n",
      "l2: [6, 6, 6]\n",
      "l3: ['Hello', 10, 2.5]\n",
      "l4: [['One', 'Two'], [1, 2], ['One', 2, 3.0]]\n",
      "l_concat: [1, 2, 3, 4, 5, 6, 6, 6, 'Hello', 10, 2.5] \n",
      "\n",
      "l = [1, 2, 3, 4, 5] , length = 5\n",
      "append --> l: [1, 2, 3, 4, 5, 6] , length = 6\n",
      "pop --> l: [2, 3, 4, 5, 6] , length = 5\n",
      "insert --> l: [-1, 2, 3, 4, 5, 6] , length = 6\n"
     ]
    }
   ],
   "source": [
    "# create lists ----------------------\n",
    "l1 = [1,2,3,4,5]\n",
    "l2 = [6] * 3\n",
    "l3 = ['Hello', 10, 2.5]\n",
    "l4 = [['One', 'Two'],[1, 2],['One', 2, 3.0]]\n",
    "print('l1:', l1); print('l2:', l2); print('l3:', l3); print('l4:', l4)\n",
    "\n",
    "# concatentate ----------------------\n",
    "l_concat = l1 + l2 + l3\n",
    "print('l_concat:', l_concat, '\\n')\n",
    "\n",
    "# index -----------------------------\n",
    "l = l_concat[0:5]\n",
    "print('l =', l, ', length =', len(l))\n",
    "\n",
    "# append ----------------------------\n",
    "l.append(6)\n",
    "print('append --> l:', l, ', length =', len(l))\n",
    "\n",
    "# pop -------------------------------\n",
    "l.pop(0)\n",
    "print('pop --> l:', l, ', length =', len(l))\n",
    "\n",
    "# insert ----------------------------\n",
    "l.insert(0, -1)\n",
    "print('insert --> l:', l, ', length =', len(l))\n"
   ]
  },
  {
   "cell_type": "markdown",
   "metadata": {},
   "source": [
    "## Tuples"
   ]
  },
  {
   "cell_type": "code",
   "execution_count": 4,
   "metadata": {},
   "outputs": [
    {
     "name": "stdout",
     "output_type": "stream",
     "text": [
      "t = (5, 4, 3) , length 3\n",
      "unpacking --> t: 5 4 3\n",
      "element assignment --> l: [3, 4, 3]\n"
     ]
    }
   ],
   "source": [
    "# create tuple ----------------------\n",
    "t = (5,4,3)\n",
    "print('t =', t, ', length', len(t))\n",
    "\n",
    "# unpack ----------------------------\n",
    "x, y, z = t\n",
    "print('unpacking --> t:', x, y, z)\n",
    "\n",
    "# assign element -------------------- does not apply for tuples\n",
    "l = list(t)\n",
    "l[0] = t[-1]\n",
    "print('element assignment --> l:', l)"
   ]
  },
  {
   "cell_type": "markdown",
   "metadata": {},
   "source": [
    "## Dictionaries "
   ]
  },
  {
   "cell_type": "code",
   "execution_count": 5,
   "metadata": {},
   "outputs": [
    {
     "name": "stdout",
     "output_type": "stream",
     "text": [
      "d: {'two': 2, 'one': 1, 'three': 3} , length: 3\n",
      "index --> one: 1 , two: 2 , three: 3\n",
      "keys & values --> keys: dict_keys(['two', 'one', 'three']) , values: dict_values([2, 1, 3])\n",
      "insert/delete --> d: {'two': 2, 'one': 1, 'three': 3, 'four': 4}\n"
     ]
    }
   ],
   "source": [
    "# create dictionary  ---------------- unordered\n",
    "d = {'two':2, 'one':1, 'three':3}\n",
    "print('d:', d, ', length:', len(d))\n",
    "\n",
    "# index -----------------------------\n",
    "print('index -->','one:', d['one'], ',', 'two:', d['two'], ',',  'three:', d['three'])\n",
    "\n",
    "# keys & values ---------------------\n",
    "print('keys & values -->','keys:', d.keys(), ',', 'values:', d.values())\n",
    "\n",
    "# insert/delete ----------------------------\n",
    "if 'four' in d:\n",
    "    del d['four']\n",
    "else:\n",
    "    d['four'] = 4\n",
    "    \n",
    "print('insert/delete --> d:', d)"
   ]
  },
  {
   "cell_type": "markdown",
   "metadata": {},
   "source": [
    "## Sets"
   ]
  },
  {
   "cell_type": "code",
   "execution_count": 6,
   "metadata": {},
   "outputs": [
    {
     "name": "stdout",
     "output_type": "stream",
     "text": [
      "s1 = {2, 4, 6, 8, 10} , s2 = {1, 2, 3, 5, 6, 9}\n",
      "union --> {1, 2, 3, 4, 5, 6, 8, 9, 10}\n",
      "intersection --> {2, 6}\n",
      "in s1 not in s2 --> {8, 10, 4}\n",
      "in s2 not in s1 --> {1, 3, 5, 9}\n",
      "symmetric difference --> {1, 3, 4, 5, 8, 9, 10}\n"
     ]
    }
   ],
   "source": [
    "# create sets -----------------------------\n",
    "s1 = {2,4,6,8,10}\n",
    "s2 = {1,2,3,5,6,9}\n",
    "\n",
    "# operations ------------------------------\n",
    "print('s1 =', s1, ',', 's2 =', s2)\n",
    "print('union -->', s1 | s2)\n",
    "print('intersection -->', s1 & s2)\n",
    "print('in s1 not in s2 -->', s1 - s2)\n",
    "print('in s2 not in s1 -->', s2 - s1)\n",
    "print('symmetric difference -->', s1 ^ s2)"
   ]
  },
  {
   "cell_type": "markdown",
   "metadata": {},
   "source": [
    "## For Loops and List Comprehensions"
   ]
  },
  {
   "cell_type": "code",
   "execution_count": null,
   "metadata": {},
   "outputs": [],
   "source": [
    "def get_even_numbers_fl(lower, upper):\n",
    "    '''\n",
    "    This function finds all the even numbers betwwe 'lower' and 'uppers' and stores them in a list using for loop\n",
    "    Input:\n",
    "        lower: the lower range\n",
    "        upper: the upper range\n",
    "    Output:\n",
    "        list_of_even_numbers: list contains all the even numbers that can be found in the given range\n",
    "    '''\n",
    "    \n",
    "    list_of_even_numbers = []\n",
    "    list_of_odd_numbers = []\n",
    "    for number in range(lower, upper + 1):\n",
    "        if number % 2 == 0:\n",
    "            list_of_even_numbers.append(number)\n",
    "\n",
    "    return list_of_even_numbers\n",
    "\n",
    "\n",
    "def get_even_numbers_lc(lower, upper):\n",
    "    '''\n",
    "    This function finds all the even numbers betwwe 'lower' and 'uppers' and stores them in a list using list\n",
    "        comprehension\n",
    "    Input:\n",
    "        lower: the lower range\n",
    "        upper: the upper range\n",
    "    Output:\n",
    "        list_of_even_numbers: list contains all the even numbers that can be found in the given range\n",
    "    '''\n",
    "        \n",
    "    list_of_even_numbers = [number for number in range(lower, upper + 1) if number % 2 == 0] \n",
    "\n",
    "    return list_of_even_numbers\n",
    "\n",
    "def ravel_2Dlist(l):\n",
    "    l = [element for sub_l in l for element in sub_l]\n",
    "    return l\n",
    "    "
   ]
  },
  {
   "cell_type": "code",
   "execution_count": null,
   "metadata": {},
   "outputs": [],
   "source": [
    "import time\n",
    "\n",
    "# -----------------------------------------\n",
    "lower = 0\n",
    "upper = int(1e5)\n",
    "\n",
    "# using for loop --------------------------\n",
    "start = time.time() # start timing\n",
    "even_numbers_fl = get_even_numbers_fl(lower,upper)\n",
    "end = time.time() # end timing\n",
    "print('time using for loop:', end - start)\n",
    "\n",
    "# using list comprehension ----------------\n",
    "start = time.time()\n",
    "even_numbers_lc = get_even_numbers_lc(lower,upper)\n",
    "end = time.time()\n",
    "print('time using list comprehension:', end - start)\n",
    "\n",
    "# ravel ----------------------------------\n",
    "l = ravel_2Dlist([[1,2,3],[4,5,6],[7,8,9]])\n",
    "print('ravel --> l:', l)"
   ]
  }
 ],
 "metadata": {
  "kernelspec": {
   "display_name": "Python 3",
   "language": "python",
   "name": "python3"
  },
  "language_info": {
   "codemirror_mode": {
    "name": "ipython",
    "version": 3
   },
   "file_extension": ".py",
   "mimetype": "text/x-python",
   "name": "python",
   "nbconvert_exporter": "python",
   "pygments_lexer": "ipython3",
   "version": "3.6.9"
  },
  "latex_envs": {
   "LaTeX_envs_menu_present": true,
   "autoclose": false,
   "autocomplete": true,
   "bibliofile": "biblio.bib",
   "cite_by": "apalike",
   "current_citInitial": 1,
   "eqLabelWithNumbers": true,
   "eqNumInitial": 1,
   "hotkeys": {
    "equation": "Ctrl-E",
    "itemize": "Ctrl-I"
   },
   "labels_anchors": false,
   "latex_user_defs": false,
   "report_style_numbering": false,
   "user_envs_cfg": false
  }
 },
 "nbformat": 4,
 "nbformat_minor": 2
}
