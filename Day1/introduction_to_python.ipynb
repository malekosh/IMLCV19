{
 "cells": [
  {
   "cell_type": "markdown",
   "metadata": {},
   "source": [
    "# Python Language"
   ]
  },
  {
   "cell_type": "markdown",
   "metadata": {},
   "source": [
    "## Numbers and Strings"
   ]
  },
  {
   "cell_type": "code",
   "execution_count": 1,
   "metadata": {
    "scrolled": true
   },
   "outputs": [
    {
     "name": "stdout",
     "output_type": "stream",
     "text": [
      "n_add = 12.5\n",
      "n_op = 5.0\n",
      "n_op2 = 49\n",
      "n_div = 3.3333333333333335\n",
      "n_div2 = 3\n",
      "n_mod = 1\n",
      "\n",
      " ---------------------------------------------  \n",
      "\n",
      "s_add = HelloWorld with length = 10\n",
      "s_add2 = Hello World with length = 11\n",
      "s_join = Hello World , s_join2 = Hello/World\n",
      "s_upper = HELLO WORLD , s_lower = hello world\n",
      "s_fl = H , s_ll = d\n"
     ]
    }
   ],
   "source": [
    "n1 = 10\n",
    "n2 = 2.5 \n",
    "\n",
    "n_add = n1 + n2 \n",
    "print('n_add =', n_add)\n",
    "\n",
    "n_op = n1 - n2*2\n",
    "n_op2 = (n1 - 3) ** 2\n",
    "print('n_op =', n_op)\n",
    "print('n_op2 =', n_op2)\n",
    "\n",
    "n_div = n1 / 3\n",
    "n_div2 = n1 // 3 \n",
    "print('n_div =', n_div)\n",
    "print('n_div2 =', n_div2)\n",
    "\n",
    "n_mod = n1 % 3 \n",
    "print('n_mod =', n_mod)\n"
   ]
  },
  {
   "cell_type": "code",
   "execution_count": 14,
   "metadata": {},
   "outputs": [
    {
     "name": "stdout",
     "output_type": "stream",
     "text": [
      "s_add = HelloWorld with length = 10\n",
      "s_add2 = Hello World with length = 11\n",
      "s_join = Hello World , s_join2 = Hello/World\n",
      "s_upper = HELLO WORLD , s_lower = hello world\n",
      "s_fl = H , s_ll = d\n"
     ]
    }
   ],
   "source": [
    "s1 = 'Hello'\n",
    "s2 = 'World'\n",
    "\n",
    "s_add = s1 + s2\n",
    "s_add2 = s1 + ' ' + s2\n",
    "print('s_add =', s_add, 'with length =', len(s_add))\n",
    "print('s_add2 =', s_add2, 'with length =', len(s_add2))\n",
    "\n",
    "s_join = ' '.join((s1,s2))\n",
    "s_join2 = '/'.join((s1,s2))\n",
    "print('s_join =', s_join, ',', 's_join2 =', s_join2)\n",
    "\n",
    "s_upper = s_join.upper()\n",
    "s_lower = s_join.lower()\n",
    "print('s_upper =', s_upper, ',', 's_lower =', s_lower)\n",
    "\n",
    "s_fl = s_join[0]\n",
    "s_ll = s_join[-1]\n",
    "print('s_fl =', s_fl, ',', 's_ll =', s_ll)"
   ]
  },
  {
   "cell_type": "markdown",
   "metadata": {},
   "source": [
    "## Lists and Tuples"
   ]
  },
  {
   "cell_type": "code",
   "execution_count": 2,
   "metadata": {
    "scrolled": true
   },
   "outputs": [
    {
     "name": "stdout",
     "output_type": "stream",
     "text": [
      "l1 = [1, 2, 3, 4, 5]\n",
      "l2 = [6, 6, 6]\n",
      "l3 = ['Hello', 10, 2.5]\n",
      "l4 = [['One', 'Two'], [1, 2], ['One', 2, 3.0]]\n",
      "l_concat [1, 2, 3, 4, 5, 6, 6, 6, 'Hello', 10, 2.5] \n",
      "\n",
      "l = [1, 2, 3, 4, 5] with length = 5\n",
      "append l: l = [1, 2, 3, 4, 5, 6] with length = 6\n",
      "pop l: l = [1, 2, 4, 5, 6] with length = 5\n",
      "insert l: l = [1, 2, 3, 4, 5, 6] with length = 6\n",
      "\n",
      " ---------------------------------------------  \n",
      "\n",
      "t = (5, 4, 3) with length 3\n",
      "unpacking t: 5 4 3\n",
      "l item assignment: [3, 4, 3]\n"
     ]
    }
   ],
   "source": [
    "# Lists\n",
    "l1 = [1,2,3,4,5]\n",
    "l2 = [6] * 3\n",
    "l3 = ['Hello', 10, 2.5]\n",
    "l4 = [['One', 'Two'],[1, 2],['One', 2, 3.0]]\n",
    "print('l1 =', l1)\n",
    "print('l2 =', l2)\n",
    "print('l3 =', l3)\n",
    "print('l4 =', l4)\n",
    "\n",
    "l_concat = l1 + l2 + l3\n",
    "print('l_concat', l_concat, '\\n')\n",
    "\n",
    "l = l_concat[0:5]\n",
    "l_len = len(l)\n",
    "print('l =', l, 'with length =', l_len)\n",
    "\n",
    "l.append(6)\n",
    "print('append l: l =', l, 'with length =', len(l))\n",
    "\n",
    "l.pop(2)\n",
    "print('pop l: l =', l, 'with length =', len(l))\n",
    "\n",
    "l.insert(2, 3)\n",
    "print('insert l: l =', l, 'with length =', len(l))\n"
   ]
  },
  {
   "cell_type": "code",
   "execution_count": 16,
   "metadata": {},
   "outputs": [
    {
     "name": "stdout",
     "output_type": "stream",
     "text": [
      "t = (5, 4, 3) with length 3\n",
      "unpacking t: 5 4 3\n",
      "l item assignment: [3, 4, 3]\n"
     ]
    }
   ],
   "source": [
    "t = (5,4,3)\n",
    "print('t =', t, 'with length', len(t))\n",
    "\n",
    "x, y, z = t\n",
    "print('unpacking t:', x, y, z)\n",
    "\n",
    "l = list(t)\n",
    "l[0] = t[-1]\n",
    "print('l item assignment:', l)"
   ]
  },
  {
   "cell_type": "markdown",
   "metadata": {},
   "source": [
    "## Dictionaries and Sets"
   ]
  },
  {
   "cell_type": "code",
   "execution_count": 3,
   "metadata": {
    "scrolled": true
   },
   "outputs": [
    {
     "name": "stdout",
     "output_type": "stream",
     "text": [
      "d = {'one': 1, 'two': 2, 'three': 3} with length = 3\n",
      "one: 1 , two: 2 , three: 3\n",
      "keys: dict_keys(['one', 'two', 'three']) , values: dict_values([1, 2, 3])\n",
      "d after if statement: {'one': 1, 'four': 4, 'two': 2, 'three': 3}\n",
      "\n",
      " ---------------------------------------------  \n",
      "\n",
      "s1 = {8, 10, 2, 4, 6} , s2 = {1, 2, 3, 5, 6, 9}\n",
      "union: {1, 2, 3, 4, 5, 6, 8, 9, 10}\n",
      "intersection: {2, 6}\n",
      "in s1 not in s2: {8, 10, 4}\n",
      "in s2 not in s1: {1, 3, 5, 9}\n",
      "symmetric difference: {1, 3, 4, 5, 8, 9, 10}\n"
     ]
    }
   ],
   "source": [
    "d = {'two':2, 'one':1, 'three':3}\n",
    "print('d =', d, 'with length =', len(d))\n",
    "print('one:', d['one'], ',', 'two:', d['two'], ',',  'three:', d['three'])\n",
    "print('keys:', d.keys(), ',', 'values:', d.values())\n",
    "\n",
    "if 'four' in d:\n",
    "    del d['four']\n",
    "else:\n",
    "    d['four'] = 4\n",
    "    \n",
    "print('d after if statement:', d)"
   ]
  },
  {
   "cell_type": "code",
   "execution_count": 17,
   "metadata": {},
   "outputs": [
    {
     "name": "stdout",
     "output_type": "stream",
     "text": [
      "s1 = {8, 10, 2, 4, 6} , s2 = {1, 2, 3, 5, 6, 9}\n",
      "union: {1, 2, 3, 4, 5, 6, 8, 9, 10}\n",
      "intersection: {2, 6}\n",
      "in s1 not in s2: {8, 10, 4}\n",
      "in s2 not in s1: {1, 3, 5, 9}\n",
      "symmetric difference: {1, 3, 4, 5, 8, 9, 10}\n"
     ]
    }
   ],
   "source": [
    "s1 = {2,4,6,8,10}\n",
    "s2 = {1,2,3,5,6,9}\n",
    "print('s1 =', s1, ',', 's2 =', s2)\n",
    "print('union:', s1 | s2)\n",
    "print('intersection:', s1 & s2)\n",
    "print('in s1 not in s2:', s1 - s2)\n",
    "print('in s2 not in s1:', s2 - s1)\n",
    "print('symmetric difference:', s1 ^ s2)"
   ]
  },
  {
   "cell_type": "markdown",
   "metadata": {},
   "source": [
    "## For Loops and List Comprehensions"
   ]
  },
  {
   "cell_type": "code",
   "execution_count": 20,
   "metadata": {},
   "outputs": [],
   "source": [
    "def get_even_numbers_fl(lower, upper):\n",
    "    '''\n",
    "    This function creates two lists where the even and odd numbers are separated into two lists using for loop\n",
    "    Input:\n",
    "        lower: the lower range\n",
    "        upper: the upper range\n",
    "    Output:\n",
    "        list_of_even_numbers: list contains all the even numbers that can be found in the given range\n",
    "        list_of_odd_numbers: list contains all the odd numbers that can be found in the given range\n",
    "    '''\n",
    "    \n",
    "    list_of_even_numbers = []\n",
    "    list_of_odd_numbers = []\n",
    "    for number in range(lower, upper + 1):\n",
    "        if number % 2 == 0:\n",
    "            list_of_even_numbers.append(number)\n",
    "\n",
    "    return list_of_even_numbers\n",
    "\n",
    "\n",
    "def get_even_numbers_lc(lower, upper):\n",
    "    '''\n",
    "    This function creates two lists where the even and odd numbers are separated into two lists using list comprehension\n",
    "    Input:\n",
    "        lower: the lower range\n",
    "        upper: the upper range\n",
    "    Output:\n",
    "        list_of_even_numbers: list contains all the even numbers that can be found in the given range\n",
    "        list_of_odd_numbers: list contains all the odd numbers that can be found in the given range\n",
    "    '''\n",
    "        \n",
    "    list_of_even_numbers = [number for number in range(lower, upper + 1) if number % 2 == 0] \n",
    "\n",
    "    return list_of_even_numbers\n",
    "\n",
    "def ravel_2Dlist(l):\n",
    "    l = [element for sub_l in l for element in sub_l]\n",
    "    return l\n",
    "    "
   ]
  },
  {
   "cell_type": "code",
   "execution_count": 21,
   "metadata": {},
   "outputs": [
    {
     "name": "stdout",
     "output_type": "stream",
     "text": [
      "time using for loop: 0.030354738235473633\n",
      "time using list comprehension: 0.01738715171813965\n",
      "raveled l: [1, 2, 3, 4, 5, 6, 7, 8, 9]\n"
     ]
    }
   ],
   "source": [
    "import time\n",
    "\n",
    "lower = 0\n",
    "upper = int(1e5)\n",
    "\n",
    "start = time.time()\n",
    "even_numbers_fl = get_even_numbers_fl(lower,upper)\n",
    "end = time.time()\n",
    "print('time using for loop:', end - start)\n",
    "\n",
    "start = time.time()\n",
    "even_numbers_lc = get_even_numbers_lc(lower,upper)\n",
    "end = time.time()\n",
    "print('time using list comprehension:', end - start)\n",
    "\n",
    "l = ravel_2Dlist([[1,2,3],[4,5,6],[7,8,9]])\n",
    "print('raveled l:', l)"
   ]
  }
 ],
 "metadata": {
  "kernelspec": {
   "display_name": "Python 3",
   "language": "python",
   "name": "python3"
  },
  "language_info": {
   "codemirror_mode": {
    "name": "ipython",
    "version": 3
   },
   "file_extension": ".py",
   "mimetype": "text/x-python",
   "name": "python",
   "nbconvert_exporter": "python",
   "pygments_lexer": "ipython3",
   "version": "3.5.2"
  },
  "latex_envs": {
   "LaTeX_envs_menu_present": true,
   "autoclose": false,
   "autocomplete": true,
   "bibliofile": "biblio.bib",
   "cite_by": "apalike",
   "current_citInitial": 1,
   "eqLabelWithNumbers": true,
   "eqNumInitial": 1,
   "hotkeys": {
    "equation": "Ctrl-E",
    "itemize": "Ctrl-I"
   },
   "labels_anchors": false,
   "latex_user_defs": false,
   "report_style_numbering": false,
   "user_envs_cfg": false
  }
 },
 "nbformat": 4,
 "nbformat_minor": 2
}
