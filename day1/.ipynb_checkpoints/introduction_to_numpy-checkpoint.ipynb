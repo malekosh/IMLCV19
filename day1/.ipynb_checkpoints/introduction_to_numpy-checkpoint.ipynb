{
 "cells": [
  {
   "cell_type": "markdown",
   "metadata": {},
   "source": [
    "# Numpy"
   ]
  },
  {
   "cell_type": "markdown",
   "metadata": {},
   "source": [
    "## Basic Indexing and Operations"
   ]
  },
  {
   "cell_type": "code",
   "execution_count": 25,
   "metadata": {
    "scrolled": true
   },
   "outputs": [
    {
     "name": "stdout",
     "output_type": "stream",
     "text": [
      "a1 = [0 1 2 3 4 5] with shape = (6,)\n",
      "a2 = [0 1 2 3 4 5] with shape = (6,)\n",
      "is a1 equal to a2? [ True  True  True  True  True  True]\n"
     ]
    }
   ],
   "source": [
    "import numpy as np\n",
    "\n",
    "a1 = np.array([0,1,2,3,4,5])\n",
    "a2 = np.arange(6)\n",
    "\n",
    "print('a1 =', a1, 'with shape =', a1.shape)\n",
    "print('a2 =', a2, 'with shape =', a2.shape)\n",
    "print('is a1 equal to a2?', a1 == a2)"
   ]
  },
  {
   "cell_type": "code",
   "execution_count": 40,
   "metadata": {},
   "outputs": [
    {
     "name": "stdout",
     "output_type": "stream",
     "text": [
      "a1 =\n",
      " [[1 2 3]\n",
      " [4 5 6]] with shape = (2, 3) \n",
      "\n",
      "a2 =\n",
      " [[-1 -2 -3]\n",
      " [-4 -5 -6]] with shape = (2, 3) \n",
      "\n",
      "a_add =\n",
      " [[0 0 0]\n",
      " [0 0 0]] with shape = (2, 3) \n",
      "\n",
      "a_mul =\n",
      " [[ -1  -4  -9]\n",
      " [-16 -25 -36]] with shape = (2, 3) \n",
      "\n",
      "a_matmul =\n",
      " [[-14 -32]\n",
      " [-32 -77]] with shape = (2, 2) \n",
      "\n"
     ]
    }
   ],
   "source": [
    "a1 = np.array([[1,2,3],[4,5,6]])\n",
    "a2 = a1 * -1\n",
    "\n",
    "a_add = a1 + a2\n",
    "a_mul = a1 * a2\n",
    "a_matmul = np.matmul(a1,a2.T)\n",
    "\n",
    "print('a1 =\\n', a1, 'with shape =', a1.shape, '\\n')\n",
    "print('a2 =\\n', a2, 'with shape =', a2.shape, '\\n')\n",
    "print('a_add =\\n', a_add, 'with shape =', a_add.shape, '\\n')\n",
    "print('a_mul =\\n', a_mul, 'with shape =', a_mul.shape, '\\n')\n",
    "print('a_matmul =\\n', a_matmul, 'with shape =', a_matmul.shape, '\\n')"
   ]
  },
  {
   "cell_type": "code",
   "execution_count": 41,
   "metadata": {},
   "outputs": [
    {
     "name": "stdout",
     "output_type": "stream",
     "text": [
      "a_concat =\n",
      " [[1. 1. 0. 0.]\n",
      " [1. 1. 0. 0.]\n",
      " [1. 1. 0. 0.]\n",
      " [1. 1. 0. 0.]\n",
      " [1. 1. 0. 0.]] with shape = (5, 4) \n",
      "\n",
      "a_stack =\n",
      " [[[1. 0.]\n",
      "  [1. 0.]]\n",
      "\n",
      " [[1. 0.]\n",
      "  [1. 0.]]\n",
      "\n",
      " [[1. 0.]\n",
      "  [1. 0.]]\n",
      "\n",
      " [[1. 0.]\n",
      "  [1. 0.]]\n",
      "\n",
      " [[1. 0.]\n",
      "  [1. 0.]]] with shape = (5, 2, 2)\n"
     ]
    }
   ],
   "source": [
    "a1 = np.ones((5,2))\n",
    "a2 = np.zeros((5,2))\n",
    "\n",
    "a_concat = np.concatenate([a1,a2], axis=-1)\n",
    "a_stack = np.stack([a1,a2], axis=-1) # stacking column-wise when axis=-1\n",
    "\n",
    "print('a_concat =\\n', a_concat, 'with shape =', a_concat.shape, '\\n')\n",
    "print('a_stack =\\n', a_stack, 'with shape =', a_stack.shape)"
   ]
  },
  {
   "cell_type": "code",
   "execution_count": 113,
   "metadata": {
    "scrolled": false
   },
   "outputs": [
    {
     "name": "stdout",
     "output_type": "stream",
     "text": [
      "a1 =\n",
      " [ 0  1  2  3  4  5  6  7  8  9 10 11] with shape = (12,) \n",
      "\n",
      "a1 =\n",
      " [[[ 0  1]\n",
      "  [ 2  3]]\n",
      "\n",
      " [[ 4  5]\n",
      "  [ 6  7]]\n",
      "\n",
      " [[ 8  9]\n",
      "  [10 11]]] with shape = (3, 2, 2) , reshaping a1 \n",
      "\n",
      "a1 =\n",
      " [[[ 0 -1]\n",
      "  [-2 -3]]\n",
      "\n",
      " [[ 4  5]\n",
      "  [ 6  7]]\n",
      "\n",
      " [[ 8  9]\n",
      "  [10 11]]] with shape = (3, 2, 2) , multiplying first array in a1 by -1 \n",
      "\n",
      "a1 =\n",
      " [[[ 0 -1]\n",
      "  [-2 -3]]\n",
      "\n",
      " [[ 4  5]\n",
      "  [ 6  7]]\n",
      "\n",
      " [[-8 -9]\n",
      "  [10 11]]] with shape = (3, 2, 2) , multiplying last array in a1 by -1 \n",
      "\n",
      "a2 =\n",
      " [[[ 4  5]\n",
      "  [ 6  7]]\n",
      "\n",
      " [[-8 -9]\n",
      "  [10 11]]] with shape = (2, 2, 2) , extracting all arrays in a1 except for first one \n",
      "\n",
      "a3 =\n",
      " [[ 0 -2]\n",
      " [ 4  6]] with shape = (2, 2) , extracting first column in all arrays in a1 except for last one \n",
      "\n"
     ]
    }
   ],
   "source": [
    "a1 = np.arange(12)\n",
    "print('a1 =\\n', a1, 'with shape =', a1.shape, '\\n')\n",
    "\n",
    "a1 = a1.reshape((3,2,2))\n",
    "print('a1 =\\n', a1, 'with shape =', a1.shape, ', reshaping a1', '\\n')\n",
    "\n",
    "a1[0] *= -1\n",
    "print('a1 =\\n', a1, 'with shape =', a1.shape, ', multiplying first array in a1 by -1', '\\n')\n",
    "\n",
    "a1[-1,0] *= -1\n",
    "print('a1 =\\n', a1, 'with shape =', a1.shape, ', multiplying last array in a1 by -1', '\\n')\n",
    "\n",
    "a2 = a1[1:]\n",
    "print('a2 =\\n', a2, 'with shape =', a2.shape, ', extracting all arrays in a1 except for first one' ,'\\n')\n",
    "\n",
    "a3 = a1[:-1,:,0]\n",
    "print('a3 =\\n', a3, 'with shape =', a3.shape, ', extracting first column in all arrays in a1 except for last one', '\\n')"
   ]
  },
  {
   "cell_type": "markdown",
   "metadata": {},
   "source": [
    "## Advanced Indexing and Operations"
   ]
  },
  {
   "cell_type": "code",
   "execution_count": 178,
   "metadata": {},
   "outputs": [
    {
     "name": "stdout",
     "output_type": "stream",
     "text": [
      "a =\n",
      " [[[0 1]\n",
      "  [2 3]]\n",
      "\n",
      " [[4 5]\n",
      "  [6 7]]] with shape = (2, 2, 2) \n",
      "\n",
      "a1 =\n",
      " [[2 3]\n",
      " [4 5]] with shape = (2, 2) , first array - second row, second array - first row \n",
      "\n",
      "a2 =\n",
      " [[[[0 1]\n",
      "   [2 3]]\n",
      "\n",
      "  [[4 5]\n",
      "   [6 7]]]\n",
      "\n",
      "\n",
      " [[[4 5]\n",
      "   [6 7]]\n",
      "\n",
      "  [[0 1]\n",
      "   [2 3]]]] with shape = (2, 2, 2, 2) , first array - second array, second array - first array \n",
      "            with idxs shape = (2, 2) \n",
      "\n",
      "a3 =\n",
      " [[[0 1]\n",
      "  [6 7]]\n",
      "\n",
      " [[6 7]\n",
      "  [0 1]]] with shape = (2, 2, 2) , first array - first row, second array - second row, \n",
      "          second array - second row, first array - first row, \n",
      "\n"
     ]
    }
   ],
   "source": [
    "a = np.arange(8).reshape((2,2,2))\n",
    "print('a =\\n', a, 'with shape =', a.shape, '\\n')\n",
    "\n",
    "a1 = a[[0,1],[1,0]] \n",
    "print('a1 =\\n', a1, 'with shape =', a1.shape, ', first array - second row, second array - first row', '\\n')\n",
    "\n",
    "idxs = np.array([[0,1],[1,0]])\n",
    "a2 = a[idxs]\n",
    "print('a2 =\\n', a2, 'with shape =', a2.shape, ', first array - second array, second array - first array', '\\n'\n",
    "      '            with idxs shape =', idxs.shape, '\\n')\n",
    "\n",
    "a3 = a[idxs, idxs]\n",
    "print('a3 =\\n', a3, 'with shape =', a3.shape, ', first array - first row, second array - second row,', '\\n'\n",
    "      '          second array - second row, first array - first row, \\n')"
   ]
  },
  {
   "cell_type": "code",
   "execution_count": 133,
   "metadata": {},
   "outputs": [
    {
     "name": "stdout",
     "output_type": "stream",
     "text": [
      "a =\n",
      " [[[ 0.  1.]\n",
      "  [-2.  0.]\n",
      "  [-2. -2.]]\n",
      "\n",
      " [[-1.  1.]\n",
      "  [ 0.  1.]\n",
      "  [ 0.  0.]]\n",
      "\n",
      " [[-2.  1.]\n",
      "  [-2. -2.]\n",
      "  [ 1. -2.]]] with shape = (3, 3, 2) \n",
      "\n",
      "total mean of a before NaN substitution: -0.56 \n",
      "\n",
      "mean along second axis of a before NaN substitution:\n",
      " [[-1.33 -0.33]\n",
      " [-0.33  0.67]\n",
      " [-1.   -1.  ]] with shape = (3, 2) \n",
      "\n",
      "\n",
      " ---------------------------------------------  \n",
      "\n",
      "a =\n",
      " [[[nan  1.]\n",
      "  [-2. nan]\n",
      "  [-2. -2.]]\n",
      "\n",
      " [[-1.  1.]\n",
      "  [nan  1.]\n",
      "  [nan nan]]\n",
      "\n",
      " [[-2.  1.]\n",
      "  [-2. -2.]\n",
      "  [ 1. -2.]]] with shape = (3, 3, 2) , substituting zero with NaN \n",
      "\n",
      "total mean of a after NaN substitution: -0.77 \n",
      "\n",
      "mean along second axis of a after NaN substitution:\n",
      " [[-2.  -0.5]\n",
      " [-1.   1. ]\n",
      " [-1.  -1. ]] with shape = (3, 2) \n",
      "\n"
     ]
    }
   ],
   "source": [
    "a = np.random.randint(low=-2, high=2, size=(3,3,2)).astype(np.float)\n",
    "print('a =\\n', a, 'with shape =', a.shape, '\\n')\n",
    "\n",
    "m = np.mean(a)\n",
    "print('total mean of a before NaN substitution:', np.around(m, decimals=2), '\\n')\n",
    "\n",
    "m_ax = np.mean(a, axis=1)\n",
    "print('mean along second axis of a before NaN substitution:\\n', \n",
    "      np.around(m_ax, decimals=2), 'with shape =', m_ax.shape, '\\n')\n",
    "\n",
    "print('\\n', '---------------------------------------------', ' \\n')\n",
    "\n",
    "a[a==0] = np.nan\n",
    "print('a =\\n', a, 'with shape =', a.shape, ', substituting zero with NaN', '\\n')\n",
    "\n",
    "m = np.nanmean(a)\n",
    "print('total mean of a after NaN substitution:', np.around(m, decimals=2), '\\n')\n",
    "\n",
    "m_ax = np.nanmean(a, axis=1)\n",
    "print('mean along second axis of a after NaN substitution:\\n', \n",
    "      np.around(m_ax, decimals=2), 'with shape =', m_ax.shape, '\\n')"
   ]
  },
  {
   "cell_type": "markdown",
   "metadata": {},
   "source": [
    "## Vectorization and Broadcasting"
   ]
  },
  {
   "cell_type": "code",
   "execution_count": 226,
   "metadata": {},
   "outputs": [],
   "source": [
    "def mul_fl(x, y):\n",
    "    '''\n",
    "    Input:\n",
    "        x: (m,)\n",
    "        y: (n)\n",
    "    Output:\n",
    "        result: (m,n)\n",
    "    '''\n",
    "    \n",
    "    m, n = len(x), len(y)\n",
    "    result = np.zeros((m,n))\n",
    "    \n",
    "    for x_idx, ex in enumerate(x):\n",
    "        for y_idx, ey in enumerate(y):\n",
    "            result[x_idx,y_idx] = ex * ey\n",
    "            \n",
    "    return result\n",
    "\n",
    "\n",
    "def mul_vec(x, y):\n",
    "    '''\n",
    "    Input:\n",
    "        x: (m,)\n",
    "        y: (n)\n",
    "    Output:\n",
    "        result: (m,n)\n",
    "    '''\n",
    "    \n",
    "    result = x[:,np.newaxis] * y\n",
    "    \n",
    "    return result\n",
    "    "
   ]
  },
  {
   "cell_type": "code",
   "execution_count": 227,
   "metadata": {},
   "outputs": [
    {
     "data": {
      "text/plain": [
       "(10, 4)"
      ]
     },
     "execution_count": 227,
     "metadata": {},
     "output_type": "execute_result"
    }
   ],
   "source": [
    "import time\n",
    "\n",
    "x = np.ones(10) * 2\n",
    "y = np.ones(4) * 3\n",
    "\n"
   ]
  },
  {
   "cell_type": "code",
   "execution_count": null,
   "metadata": {},
   "outputs": [],
   "source": []
  }
 ],
 "metadata": {
  "kernelspec": {
   "display_name": "Python 3",
   "language": "python",
   "name": "python3"
  },
  "language_info": {
   "codemirror_mode": {
    "name": "ipython",
    "version": 3
   },
   "file_extension": ".py",
   "mimetype": "text/x-python",
   "name": "python",
   "nbconvert_exporter": "python",
   "pygments_lexer": "ipython3",
   "version": "3.5.2"
  }
 },
 "nbformat": 4,
 "nbformat_minor": 2
}
